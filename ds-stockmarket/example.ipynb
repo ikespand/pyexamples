{
 "cells": [
  {
   "cell_type": "code",
   "execution_count": 3,
   "metadata": {},
   "outputs": [],
   "source": [
    "import pandas as pd\n",
    "import numpy as np\n",
    "import matplotlib.pyplot as plt\n",
    "from sklearn.preprocessing import MinMaxScaler\n",
    "from keras.models import Sequential\n",
    "from keras.layers import Dense\n",
    "from keras.layers import LSTM\n",
    "from keras.layers import Dropout\n",
    "from keras.layers import Activation\n",
    "from keras.models import load_model"
   ]
  },
  {
   "cell_type": "code",
   "execution_count": 4,
   "metadata": {},
   "outputs": [
    {
     "data": {
      "text/html": [
       "<div>\n",
       "<style scoped>\n",
       "    .dataframe tbody tr th:only-of-type {\n",
       "        vertical-align: middle;\n",
       "    }\n",
       "\n",
       "    .dataframe tbody tr th {\n",
       "        vertical-align: top;\n",
       "    }\n",
       "\n",
       "    .dataframe thead th {\n",
       "        text-align: right;\n",
       "    }\n",
       "</style>\n",
       "<table border=\"1\" class=\"dataframe\">\n",
       "  <thead>\n",
       "    <tr style=\"text-align: right;\">\n",
       "      <th></th>\n",
       "      <th>uuid</th>\n",
       "      <th>exchange</th>\n",
       "      <th>ask_price</th>\n",
       "      <th>ask_whole_lot_volume</th>\n",
       "      <th>ask_lot_volume</th>\n",
       "      <th>bid_price</th>\n",
       "      <th>bid_whole_lot_volume</th>\n",
       "      <th>bid_lot_volume</th>\n",
       "      <th>close_price</th>\n",
       "      <th>close_volume</th>\n",
       "      <th>volume_avg_today</th>\n",
       "      <th>volume_avg_24h</th>\n",
       "      <th>trades_today</th>\n",
       "      <th>trades_24h</th>\n",
       "      <th>low_today</th>\n",
       "      <th>low_24h</th>\n",
       "      <th>high_today</th>\n",
       "      <th>high_24h</th>\n",
       "      <th>opening_price</th>\n",
       "      <th>ts</th>\n",
       "    </tr>\n",
       "  </thead>\n",
       "  <tbody>\n",
       "    <tr>\n",
       "      <th>0</th>\n",
       "      <td>9831925d-f9b1-4fde-9d40-34c5dc222a91</td>\n",
       "      <td>kraken</td>\n",
       "      <td>0.000804</td>\n",
       "      <td>289</td>\n",
       "      <td>289</td>\n",
       "      <td>0.000802</td>\n",
       "      <td>150</td>\n",
       "      <td>150</td>\n",
       "      <td>0.000805</td>\n",
       "      <td>150</td>\n",
       "      <td>94508.35523</td>\n",
       "      <td>176635.0497</td>\n",
       "      <td>1087</td>\n",
       "      <td>2278</td>\n",
       "      <td>0.000787</td>\n",
       "      <td>0.000787</td>\n",
       "      <td>0.000855</td>\n",
       "      <td>0.000855</td>\n",
       "      <td>0.000802</td>\n",
       "      <td>25569.50487</td>\n",
       "    </tr>\n",
       "    <tr>\n",
       "      <th>1</th>\n",
       "      <td>63644912-c186-4a7c-a0fd-739520c879b6</td>\n",
       "      <td>kraken</td>\n",
       "      <td>0.000804</td>\n",
       "      <td>334</td>\n",
       "      <td>334</td>\n",
       "      <td>0.000802</td>\n",
       "      <td>150</td>\n",
       "      <td>150</td>\n",
       "      <td>0.000805</td>\n",
       "      <td>150</td>\n",
       "      <td>103094.91810</td>\n",
       "      <td>176635.0497</td>\n",
       "      <td>1196</td>\n",
       "      <td>2278</td>\n",
       "      <td>0.000787</td>\n",
       "      <td>0.000787</td>\n",
       "      <td>0.000855</td>\n",
       "      <td>0.000855</td>\n",
       "      <td>0.000802</td>\n",
       "      <td>25569.50487</td>\n",
       "    </tr>\n",
       "    <tr>\n",
       "      <th>2</th>\n",
       "      <td>8150086e-98d8-4dd3-91fa-111923a6f78c</td>\n",
       "      <td>kraken</td>\n",
       "      <td>0.000804</td>\n",
       "      <td>289</td>\n",
       "      <td>289</td>\n",
       "      <td>0.000802</td>\n",
       "      <td>150</td>\n",
       "      <td>150</td>\n",
       "      <td>0.000805</td>\n",
       "      <td>150</td>\n",
       "      <td>103094.95470</td>\n",
       "      <td>176635.0497</td>\n",
       "      <td>1198</td>\n",
       "      <td>2278</td>\n",
       "      <td>0.000787</td>\n",
       "      <td>0.000787</td>\n",
       "      <td>0.000855</td>\n",
       "      <td>0.000855</td>\n",
       "      <td>0.000802</td>\n",
       "      <td>25569.50487</td>\n",
       "    </tr>\n",
       "    <tr>\n",
       "      <th>3</th>\n",
       "      <td>6df11107-1be2-4e31-97a6-d20e80431b14</td>\n",
       "      <td>kraken</td>\n",
       "      <td>0.000804</td>\n",
       "      <td>134</td>\n",
       "      <td>134</td>\n",
       "      <td>0.000802</td>\n",
       "      <td>150</td>\n",
       "      <td>150</td>\n",
       "      <td>0.000805</td>\n",
       "      <td>150</td>\n",
       "      <td>103249.37390</td>\n",
       "      <td>176635.0497</td>\n",
       "      <td>1199</td>\n",
       "      <td>2278</td>\n",
       "      <td>0.000787</td>\n",
       "      <td>0.000787</td>\n",
       "      <td>0.000855</td>\n",
       "      <td>0.000855</td>\n",
       "      <td>0.000802</td>\n",
       "      <td>25569.50487</td>\n",
       "    </tr>\n",
       "    <tr>\n",
       "      <th>4</th>\n",
       "      <td>2d2358d9-dec6-49be-b309-33db96b75eaa</td>\n",
       "      <td>kraken</td>\n",
       "      <td>0.000804</td>\n",
       "      <td>134</td>\n",
       "      <td>134</td>\n",
       "      <td>0.000802</td>\n",
       "      <td>150</td>\n",
       "      <td>150</td>\n",
       "      <td>0.000805</td>\n",
       "      <td>150</td>\n",
       "      <td>103279.59390</td>\n",
       "      <td>176635.0497</td>\n",
       "      <td>1200</td>\n",
       "      <td>2278</td>\n",
       "      <td>0.000787</td>\n",
       "      <td>0.000787</td>\n",
       "      <td>0.000855</td>\n",
       "      <td>0.000855</td>\n",
       "      <td>0.000802</td>\n",
       "      <td>25569.50487</td>\n",
       "    </tr>\n",
       "  </tbody>\n",
       "</table>\n",
       "</div>"
      ],
      "text/plain": [
       "                                   uuid exchange  ask_price  \\\n",
       "0  9831925d-f9b1-4fde-9d40-34c5dc222a91   kraken   0.000804   \n",
       "1  63644912-c186-4a7c-a0fd-739520c879b6   kraken   0.000804   \n",
       "2  8150086e-98d8-4dd3-91fa-111923a6f78c   kraken   0.000804   \n",
       "3  6df11107-1be2-4e31-97a6-d20e80431b14   kraken   0.000804   \n",
       "4  2d2358d9-dec6-49be-b309-33db96b75eaa   kraken   0.000804   \n",
       "\n",
       "   ask_whole_lot_volume  ask_lot_volume  bid_price  bid_whole_lot_volume  \\\n",
       "0                   289             289   0.000802                   150   \n",
       "1                   334             334   0.000802                   150   \n",
       "2                   289             289   0.000802                   150   \n",
       "3                   134             134   0.000802                   150   \n",
       "4                   134             134   0.000802                   150   \n",
       "\n",
       "   bid_lot_volume  close_price  close_volume  volume_avg_today  \\\n",
       "0             150     0.000805           150       94508.35523   \n",
       "1             150     0.000805           150      103094.91810   \n",
       "2             150     0.000805           150      103094.95470   \n",
       "3             150     0.000805           150      103249.37390   \n",
       "4             150     0.000805           150      103279.59390   \n",
       "\n",
       "   volume_avg_24h  trades_today  trades_24h  low_today   low_24h  high_today  \\\n",
       "0     176635.0497          1087        2278   0.000787  0.000787    0.000855   \n",
       "1     176635.0497          1196        2278   0.000787  0.000787    0.000855   \n",
       "2     176635.0497          1198        2278   0.000787  0.000787    0.000855   \n",
       "3     176635.0497          1199        2278   0.000787  0.000787    0.000855   \n",
       "4     176635.0497          1200        2278   0.000787  0.000787    0.000855   \n",
       "\n",
       "   high_24h  opening_price           ts  \n",
       "0  0.000855       0.000802  25569.50487  \n",
       "1  0.000855       0.000802  25569.50487  \n",
       "2  0.000855       0.000802  25569.50487  \n",
       "3  0.000855       0.000802  25569.50487  \n",
       "4  0.000855       0.000802  25569.50487  "
      ]
     },
     "execution_count": 4,
     "metadata": {},
     "output_type": "execute_result"
    }
   ],
   "source": [
    "dataset = pd.read_csv('data_mv_set.csv')\n",
    "dataset.head()"
   ]
  },
  {
   "cell_type": "code",
   "execution_count": 5,
   "metadata": {},
   "outputs": [],
   "source": [
    "del dataset['uuid']\n",
    "del dataset['exchange']\n",
    "del dataset['volume_avg_today']\n",
    "del dataset['volume_avg_24h']\n",
    "del dataset['trades_today']\n",
    "del dataset['trades_24h']\n",
    "del dataset['low_today']\n",
    "del dataset['low_24h']\n",
    "del dataset['high_today']\n",
    "del dataset['high_24h']\n",
    "del dataset['opening_price']"
   ]
  },
  {
   "cell_type": "code",
   "execution_count": 6,
   "metadata": {},
   "outputs": [
    {
     "name": "stdout",
     "output_type": "stream",
     "text": [
      "(26638, 9)\n",
      "(6661, 9)\n"
     ]
    }
   ],
   "source": [
    "# We want 80% of the data to be used for training, and 20% for testing\n",
    "n_train_rows = int(dataset.shape[0]*.8)-1\n",
    "\n",
    "# Split into train and test sets but keep all 9 columns\n",
    "train = dataset.iloc[:n_train_rows, :]\n",
    "test = dataset.iloc[n_train_rows:, :]\n",
    "\n",
    "# The total rows of the two datasets should equal the total amount of rows in your CSV\n",
    "print(train.shape)\n",
    "print(test.shape)"
   ]
  },
  {
   "cell_type": "code",
   "execution_count": 7,
   "metadata": {},
   "outputs": [],
   "source": [
    "# Normalise features\n",
    "sc = MinMaxScaler(feature_range = (0, 1))\n",
    "training_set_scaled = sc.fit_transform(train.values)\n",
    "test_set_scaled = sc.fit_transform(test.values)"
   ]
  },
  {
   "cell_type": "code",
   "execution_count": 8,
   "metadata": {},
   "outputs": [],
   "source": [
    "steps = 50"
   ]
  },
  {
   "cell_type": "code",
   "execution_count": 9,
   "metadata": {},
   "outputs": [
    {
     "name": "stdout",
     "output_type": "stream",
     "text": [
      "(26538, 50, 9)\n"
     ]
    }
   ],
   "source": [
    "# Prepare the training data\n",
    "x_train = []\n",
    "y_train = []\n",
    "\n",
    "for i in range(steps, training_set_scaled.shape[0]-steps):\n",
    "    x_train.append(training_set_scaled[i-steps:i, :])\n",
    "    y_train.append(training_set_scaled[i, :])\n",
    "\n",
    "x_train, y_train = np.array(x_train), np.array(y_train)\n",
    "print(x_train.shape)"
   ]
  },
  {
   "cell_type": "code",
   "execution_count": 10,
   "metadata": {},
   "outputs": [
    {
     "name": "stdout",
     "output_type": "stream",
     "text": [
      "(6611, 50, 9)\n"
     ]
    }
   ],
   "source": [
    "# Prepare the test data\n",
    "x_test = []\n",
    "y_test = []\n",
    "\n",
    "for i in range(steps, test_set_scaled.shape[0]):\n",
    "    x_test.append(test_set_scaled[i-steps:i, :])\n",
    "    y_test.append(test_set_scaled[i, :])\n",
    "\n",
    "x_test, y_test = np.array(x_test), np.array(y_test)\n",
    "print(x_test.shape)"
   ]
  },
  {
   "cell_type": "code",
   "execution_count": 15,
   "metadata": {},
   "outputs": [
    {
     "name": "stdout",
     "output_type": "stream",
     "text": [
      "Model: \"sequential_4\"\n",
      "_________________________________________________________________\n",
      "Layer (type)                 Output Shape              Param #   \n",
      "=================================================================\n",
      "lstm_12 (LSTM)               (None, 50, 50)            12000     \n",
      "_________________________________________________________________\n",
      "dropout_12 (Dropout)         (None, 50, 50)            0         \n",
      "_________________________________________________________________\n",
      "lstm_13 (LSTM)               (None, 50, 50)            20200     \n",
      "_________________________________________________________________\n",
      "dropout_13 (Dropout)         (None, 50, 50)            0         \n",
      "_________________________________________________________________\n",
      "lstm_14 (LSTM)               (None, 50, 50)            20200     \n",
      "_________________________________________________________________\n",
      "dropout_14 (Dropout)         (None, 50, 50)            0         \n",
      "_________________________________________________________________\n",
      "lstm_15 (LSTM)               (None, 50)                20200     \n",
      "_________________________________________________________________\n",
      "dropout_15 (Dropout)         (None, 50)                0         \n",
      "_________________________________________________________________\n",
      "dense_4 (Dense)              (None, 9)                 459       \n",
      "=================================================================\n",
      "Total params: 73,059\n",
      "Trainable params: 73,059\n",
      "Non-trainable params: 0\n",
      "_________________________________________________________________\n"
     ]
    }
   ],
   "source": [
    "epochs = 2\n",
    "model = Sequential()\n",
    "model.add(LSTM(units=50, return_sequences = True, input_shape = (x_train.shape[1],9)))\n",
    "model.add(Dropout(0.2))\n",
    "model.add(LSTM(units=50, return_sequences = True))\n",
    "model.add(Dropout(0.2))\n",
    "model.add(LSTM(units=50, return_sequences = True))\n",
    "model.add(Dropout(0.2))\n",
    "model.add(LSTM(units=50))\n",
    "model.add(Dropout(0.2))\n",
    "model.add(Dense(units=9))\n",
    "model.compile(loss=\"mse\", optimizer=\"adam\")\n",
    "model.summary()"
   ]
  },
  {
   "cell_type": "code",
   "execution_count": 16,
   "metadata": {},
   "outputs": [
    {
     "name": "stdout",
     "output_type": "stream",
     "text": [
      "Epoch 1/2\n",
      "23872/26538 [=========================>....] - ETA: 1:15 - loss: 0.0332"
     ]
    },
    {
     "ename": "KeyboardInterrupt",
     "evalue": "",
     "output_type": "error",
     "traceback": [
      "\u001b[0;31m--------------------------------------------------------------------\u001b[0m",
      "\u001b[0;31mKeyboardInterrupt\u001b[0m                  Traceback (most recent call last)",
      "\u001b[0;32m<ipython-input-16-289ab94ee985>\u001b[0m in \u001b[0;36m<module>\u001b[0;34m\u001b[0m\n\u001b[0;32m----> 1\u001b[0;31m \u001b[0mmodel\u001b[0m\u001b[0;34m.\u001b[0m\u001b[0mfit\u001b[0m\u001b[0;34m(\u001b[0m\u001b[0mx_train\u001b[0m\u001b[0;34m,\u001b[0m \u001b[0my_train\u001b[0m\u001b[0;34m,\u001b[0m \u001b[0mbatch_size\u001b[0m \u001b[0;34m=\u001b[0m \u001b[0;36m32\u001b[0m\u001b[0;34m,\u001b[0m \u001b[0mepochs\u001b[0m \u001b[0;34m=\u001b[0m \u001b[0mepochs\u001b[0m\u001b[0;34m)\u001b[0m\u001b[0;34m\u001b[0m\u001b[0;34m\u001b[0m\u001b[0m\n\u001b[0m\u001b[1;32m      2\u001b[0m \u001b[0mmodel\u001b[0m\u001b[0;34m.\u001b[0m\u001b[0msave\u001b[0m\u001b[0;34m(\u001b[0m\u001b[0;34m\"multiple_features_\"\u001b[0m\u001b[0;34m+\u001b[0m\u001b[0mstr\u001b[0m\u001b[0;34m(\u001b[0m\u001b[0msteps\u001b[0m\u001b[0;34m)\u001b[0m\u001b[0;34m+\u001b[0m\u001b[0;34m\"_steps_\"\u001b[0m\u001b[0;34m+\u001b[0m\u001b[0mstr\u001b[0m\u001b[0;34m(\u001b[0m\u001b[0mepochs\u001b[0m\u001b[0;34m)\u001b[0m\u001b[0;34m+\u001b[0m\u001b[0;34m\"_epochs.h5\"\u001b[0m\u001b[0;34m)\u001b[0m\u001b[0;34m\u001b[0m\u001b[0;34m\u001b[0m\u001b[0m\n\u001b[1;32m      3\u001b[0m \u001b[0mprint\u001b[0m\u001b[0;34m(\u001b[0m\u001b[0;34m\"Saved model to disk\"\u001b[0m\u001b[0;34m)\u001b[0m\u001b[0;34m\u001b[0m\u001b[0;34m\u001b[0m\u001b[0m\n",
      "\u001b[0;32m~/anaconda3/envs/py37/lib/python3.7/site-packages/keras/engine/training.py\u001b[0m in \u001b[0;36mfit\u001b[0;34m(self, x, y, batch_size, epochs, verbose, callbacks, validation_split, validation_data, shuffle, class_weight, sample_weight, initial_epoch, steps_per_epoch, validation_steps, validation_freq, max_queue_size, workers, use_multiprocessing, **kwargs)\u001b[0m\n\u001b[1;32m   1237\u001b[0m                                         \u001b[0msteps_per_epoch\u001b[0m\u001b[0;34m=\u001b[0m\u001b[0msteps_per_epoch\u001b[0m\u001b[0;34m,\u001b[0m\u001b[0;34m\u001b[0m\u001b[0;34m\u001b[0m\u001b[0m\n\u001b[1;32m   1238\u001b[0m                                         \u001b[0mvalidation_steps\u001b[0m\u001b[0;34m=\u001b[0m\u001b[0mvalidation_steps\u001b[0m\u001b[0;34m,\u001b[0m\u001b[0;34m\u001b[0m\u001b[0;34m\u001b[0m\u001b[0m\n\u001b[0;32m-> 1239\u001b[0;31m                                         validation_freq=validation_freq)\n\u001b[0m\u001b[1;32m   1240\u001b[0m \u001b[0;34m\u001b[0m\u001b[0m\n\u001b[1;32m   1241\u001b[0m     def evaluate(self,\n",
      "\u001b[0;32m~/anaconda3/envs/py37/lib/python3.7/site-packages/keras/engine/training_arrays.py\u001b[0m in \u001b[0;36mfit_loop\u001b[0;34m(model, fit_function, fit_inputs, out_labels, batch_size, epochs, verbose, callbacks, val_function, val_inputs, shuffle, initial_epoch, steps_per_epoch, validation_steps, validation_freq)\u001b[0m\n\u001b[1;32m    194\u001b[0m                     \u001b[0mins_batch\u001b[0m\u001b[0;34m[\u001b[0m\u001b[0mi\u001b[0m\u001b[0;34m]\u001b[0m \u001b[0;34m=\u001b[0m \u001b[0mins_batch\u001b[0m\u001b[0;34m[\u001b[0m\u001b[0mi\u001b[0m\u001b[0;34m]\u001b[0m\u001b[0;34m.\u001b[0m\u001b[0mtoarray\u001b[0m\u001b[0;34m(\u001b[0m\u001b[0;34m)\u001b[0m\u001b[0;34m\u001b[0m\u001b[0;34m\u001b[0m\u001b[0m\n\u001b[1;32m    195\u001b[0m \u001b[0;34m\u001b[0m\u001b[0m\n\u001b[0;32m--> 196\u001b[0;31m                 \u001b[0mouts\u001b[0m \u001b[0;34m=\u001b[0m \u001b[0mfit_function\u001b[0m\u001b[0;34m(\u001b[0m\u001b[0mins_batch\u001b[0m\u001b[0;34m)\u001b[0m\u001b[0;34m\u001b[0m\u001b[0;34m\u001b[0m\u001b[0m\n\u001b[0m\u001b[1;32m    197\u001b[0m                 \u001b[0mouts\u001b[0m \u001b[0;34m=\u001b[0m \u001b[0mto_list\u001b[0m\u001b[0;34m(\u001b[0m\u001b[0mouts\u001b[0m\u001b[0;34m)\u001b[0m\u001b[0;34m\u001b[0m\u001b[0;34m\u001b[0m\u001b[0m\n\u001b[1;32m    198\u001b[0m                 \u001b[0;32mfor\u001b[0m \u001b[0ml\u001b[0m\u001b[0;34m,\u001b[0m \u001b[0mo\u001b[0m \u001b[0;32min\u001b[0m \u001b[0mzip\u001b[0m\u001b[0;34m(\u001b[0m\u001b[0mout_labels\u001b[0m\u001b[0;34m,\u001b[0m \u001b[0mouts\u001b[0m\u001b[0;34m)\u001b[0m\u001b[0;34m:\u001b[0m\u001b[0;34m\u001b[0m\u001b[0;34m\u001b[0m\u001b[0m\n",
      "\u001b[0;32m~/anaconda3/envs/py37/lib/python3.7/site-packages/tensorflow_core/python/keras/backend.py\u001b[0m in \u001b[0;36m__call__\u001b[0;34m(self, inputs)\u001b[0m\n\u001b[1;32m   3738\u001b[0m         \u001b[0mvalue\u001b[0m \u001b[0;34m=\u001b[0m \u001b[0mmath_ops\u001b[0m\u001b[0;34m.\u001b[0m\u001b[0mcast\u001b[0m\u001b[0;34m(\u001b[0m\u001b[0mvalue\u001b[0m\u001b[0;34m,\u001b[0m \u001b[0mtensor\u001b[0m\u001b[0;34m.\u001b[0m\u001b[0mdtype\u001b[0m\u001b[0;34m)\u001b[0m\u001b[0;34m\u001b[0m\u001b[0;34m\u001b[0m\u001b[0m\n\u001b[1;32m   3739\u001b[0m       \u001b[0mconverted_inputs\u001b[0m\u001b[0;34m.\u001b[0m\u001b[0mappend\u001b[0m\u001b[0;34m(\u001b[0m\u001b[0mvalue\u001b[0m\u001b[0;34m)\u001b[0m\u001b[0;34m\u001b[0m\u001b[0;34m\u001b[0m\u001b[0m\n\u001b[0;32m-> 3740\u001b[0;31m     \u001b[0moutputs\u001b[0m \u001b[0;34m=\u001b[0m \u001b[0mself\u001b[0m\u001b[0;34m.\u001b[0m\u001b[0m_graph_fn\u001b[0m\u001b[0;34m(\u001b[0m\u001b[0;34m*\u001b[0m\u001b[0mconverted_inputs\u001b[0m\u001b[0;34m)\u001b[0m\u001b[0;34m\u001b[0m\u001b[0;34m\u001b[0m\u001b[0m\n\u001b[0m\u001b[1;32m   3741\u001b[0m \u001b[0;34m\u001b[0m\u001b[0m\n\u001b[1;32m   3742\u001b[0m     \u001b[0;31m# EagerTensor.numpy() will often make a copy to ensure memory safety.\u001b[0m\u001b[0;34m\u001b[0m\u001b[0;34m\u001b[0m\u001b[0;34m\u001b[0m\u001b[0m\n",
      "\u001b[0;32m~/anaconda3/envs/py37/lib/python3.7/site-packages/tensorflow_core/python/eager/function.py\u001b[0m in \u001b[0;36m__call__\u001b[0;34m(self, *args, **kwargs)\u001b[0m\n\u001b[1;32m   1079\u001b[0m       \u001b[0mTypeError\u001b[0m\u001b[0;34m:\u001b[0m \u001b[0mFor\u001b[0m \u001b[0minvalid\u001b[0m \u001b[0mpositional\u001b[0m\u001b[0;34m/\u001b[0m\u001b[0mkeyword\u001b[0m \u001b[0margument\u001b[0m \u001b[0mcombinations\u001b[0m\u001b[0;34m.\u001b[0m\u001b[0;34m\u001b[0m\u001b[0;34m\u001b[0m\u001b[0m\n\u001b[1;32m   1080\u001b[0m     \"\"\"\n\u001b[0;32m-> 1081\u001b[0;31m     \u001b[0;32mreturn\u001b[0m \u001b[0mself\u001b[0m\u001b[0;34m.\u001b[0m\u001b[0m_call_impl\u001b[0m\u001b[0;34m(\u001b[0m\u001b[0margs\u001b[0m\u001b[0;34m,\u001b[0m \u001b[0mkwargs\u001b[0m\u001b[0;34m)\u001b[0m\u001b[0;34m\u001b[0m\u001b[0;34m\u001b[0m\u001b[0m\n\u001b[0m\u001b[1;32m   1082\u001b[0m \u001b[0;34m\u001b[0m\u001b[0m\n\u001b[1;32m   1083\u001b[0m   \u001b[0;32mdef\u001b[0m \u001b[0m_call_impl\u001b[0m\u001b[0;34m(\u001b[0m\u001b[0mself\u001b[0m\u001b[0;34m,\u001b[0m \u001b[0margs\u001b[0m\u001b[0;34m,\u001b[0m \u001b[0mkwargs\u001b[0m\u001b[0;34m,\u001b[0m \u001b[0mcancellation_manager\u001b[0m\u001b[0;34m=\u001b[0m\u001b[0;32mNone\u001b[0m\u001b[0;34m)\u001b[0m\u001b[0;34m:\u001b[0m\u001b[0;34m\u001b[0m\u001b[0;34m\u001b[0m\u001b[0m\n",
      "\u001b[0;32m~/anaconda3/envs/py37/lib/python3.7/site-packages/tensorflow_core/python/eager/function.py\u001b[0m in \u001b[0;36m_call_impl\u001b[0;34m(self, args, kwargs, cancellation_manager)\u001b[0m\n\u001b[1;32m   1119\u001b[0m       raise TypeError(\"Keyword arguments {} unknown. Expected {}.\".format(\n\u001b[1;32m   1120\u001b[0m           list(kwargs.keys()), list(self._arg_keywords)))\n\u001b[0;32m-> 1121\u001b[0;31m     \u001b[0;32mreturn\u001b[0m \u001b[0mself\u001b[0m\u001b[0;34m.\u001b[0m\u001b[0m_call_flat\u001b[0m\u001b[0;34m(\u001b[0m\u001b[0margs\u001b[0m\u001b[0;34m,\u001b[0m \u001b[0mself\u001b[0m\u001b[0;34m.\u001b[0m\u001b[0mcaptured_inputs\u001b[0m\u001b[0;34m,\u001b[0m \u001b[0mcancellation_manager\u001b[0m\u001b[0;34m)\u001b[0m\u001b[0;34m\u001b[0m\u001b[0;34m\u001b[0m\u001b[0m\n\u001b[0m\u001b[1;32m   1122\u001b[0m \u001b[0;34m\u001b[0m\u001b[0m\n\u001b[1;32m   1123\u001b[0m   \u001b[0;32mdef\u001b[0m \u001b[0m_filtered_call\u001b[0m\u001b[0;34m(\u001b[0m\u001b[0mself\u001b[0m\u001b[0;34m,\u001b[0m \u001b[0margs\u001b[0m\u001b[0;34m,\u001b[0m \u001b[0mkwargs\u001b[0m\u001b[0;34m)\u001b[0m\u001b[0;34m:\u001b[0m\u001b[0;34m\u001b[0m\u001b[0;34m\u001b[0m\u001b[0m\n",
      "\u001b[0;32m~/anaconda3/envs/py37/lib/python3.7/site-packages/tensorflow_core/python/eager/function.py\u001b[0m in \u001b[0;36m_call_flat\u001b[0;34m(self, args, captured_inputs, cancellation_manager)\u001b[0m\n\u001b[1;32m   1222\u001b[0m     \u001b[0;32mif\u001b[0m \u001b[0mexecuting_eagerly\u001b[0m\u001b[0;34m:\u001b[0m\u001b[0;34m\u001b[0m\u001b[0;34m\u001b[0m\u001b[0m\n\u001b[1;32m   1223\u001b[0m       flat_outputs = forward_function.call(\n\u001b[0;32m-> 1224\u001b[0;31m           ctx, args, cancellation_manager=cancellation_manager)\n\u001b[0m\u001b[1;32m   1225\u001b[0m     \u001b[0;32melse\u001b[0m\u001b[0;34m:\u001b[0m\u001b[0;34m\u001b[0m\u001b[0;34m\u001b[0m\u001b[0m\n\u001b[1;32m   1226\u001b[0m       \u001b[0mgradient_name\u001b[0m \u001b[0;34m=\u001b[0m \u001b[0mself\u001b[0m\u001b[0;34m.\u001b[0m\u001b[0m_delayed_rewrite_functions\u001b[0m\u001b[0;34m.\u001b[0m\u001b[0mregister\u001b[0m\u001b[0;34m(\u001b[0m\u001b[0;34m)\u001b[0m\u001b[0;34m\u001b[0m\u001b[0;34m\u001b[0m\u001b[0m\n",
      "\u001b[0;32m~/anaconda3/envs/py37/lib/python3.7/site-packages/tensorflow_core/python/eager/function.py\u001b[0m in \u001b[0;36mcall\u001b[0;34m(self, ctx, args, cancellation_manager)\u001b[0m\n\u001b[1;32m    509\u001b[0m               \u001b[0minputs\u001b[0m\u001b[0;34m=\u001b[0m\u001b[0margs\u001b[0m\u001b[0;34m,\u001b[0m\u001b[0;34m\u001b[0m\u001b[0;34m\u001b[0m\u001b[0m\n\u001b[1;32m    510\u001b[0m               \u001b[0mattrs\u001b[0m\u001b[0;34m=\u001b[0m\u001b[0;34m(\u001b[0m\u001b[0;34m\"executor_type\"\u001b[0m\u001b[0;34m,\u001b[0m \u001b[0mexecutor_type\u001b[0m\u001b[0;34m,\u001b[0m \u001b[0;34m\"config_proto\"\u001b[0m\u001b[0;34m,\u001b[0m \u001b[0mconfig\u001b[0m\u001b[0;34m)\u001b[0m\u001b[0;34m,\u001b[0m\u001b[0;34m\u001b[0m\u001b[0;34m\u001b[0m\u001b[0m\n\u001b[0;32m--> 511\u001b[0;31m               ctx=ctx)\n\u001b[0m\u001b[1;32m    512\u001b[0m         \u001b[0;32melse\u001b[0m\u001b[0;34m:\u001b[0m\u001b[0;34m\u001b[0m\u001b[0;34m\u001b[0m\u001b[0m\n\u001b[1;32m    513\u001b[0m           outputs = execute.execute_with_cancellation(\n",
      "\u001b[0;32m~/anaconda3/envs/py37/lib/python3.7/site-packages/tensorflow_core/python/eager/execute.py\u001b[0m in \u001b[0;36mquick_execute\u001b[0;34m(op_name, num_outputs, inputs, attrs, ctx, name)\u001b[0m\n\u001b[1;32m     59\u001b[0m     tensors = pywrap_tensorflow.TFE_Py_Execute(ctx._handle, device_name,\n\u001b[1;32m     60\u001b[0m                                                \u001b[0mop_name\u001b[0m\u001b[0;34m,\u001b[0m \u001b[0minputs\u001b[0m\u001b[0;34m,\u001b[0m \u001b[0mattrs\u001b[0m\u001b[0;34m,\u001b[0m\u001b[0;34m\u001b[0m\u001b[0;34m\u001b[0m\u001b[0m\n\u001b[0;32m---> 61\u001b[0;31m                                                num_outputs)\n\u001b[0m\u001b[1;32m     62\u001b[0m   \u001b[0;32mexcept\u001b[0m \u001b[0mcore\u001b[0m\u001b[0;34m.\u001b[0m\u001b[0m_NotOkStatusException\u001b[0m \u001b[0;32mas\u001b[0m \u001b[0me\u001b[0m\u001b[0;34m:\u001b[0m\u001b[0;34m\u001b[0m\u001b[0;34m\u001b[0m\u001b[0m\n\u001b[1;32m     63\u001b[0m     \u001b[0;32mif\u001b[0m \u001b[0mname\u001b[0m \u001b[0;32mis\u001b[0m \u001b[0;32mnot\u001b[0m \u001b[0;32mNone\u001b[0m\u001b[0;34m:\u001b[0m\u001b[0;34m\u001b[0m\u001b[0;34m\u001b[0m\u001b[0m\n",
      "\u001b[0;31mKeyboardInterrupt\u001b[0m: "
     ]
    }
   ],
   "source": [
    "model.fit(x_train, y_train, batch_size = 32, epochs = epochs)\n",
    "model.save(\"multiple_features_\"+str(steps)+\"_steps_\"+str(epochs)+\"_epochs.h5\")\n",
    "print(\"Saved model to disk\")"
   ]
  },
  {
   "cell_type": "code",
   "execution_count": null,
   "metadata": {},
   "outputs": [],
   "source": [
    "# Evaluate the model on the test data using `evaluate`\n",
    "print('\\n# Evaluate on test data')\n",
    "results = model.evaluate(x_test, y_test, batch_size=32)\n",
    "print('test loss, test acc:', results)"
   ]
  },
  {
   "cell_type": "code",
   "execution_count": null,
   "metadata": {},
   "outputs": [],
   "source": [
    "# Predict values from test data trained using training data\n",
    "y_hat = model.predict(x_test)\n",
    "y_hat = sc.inverse_transform(y_hat)"
   ]
  },
  {
   "cell_type": "code",
   "execution_count": null,
   "metadata": {},
   "outputs": [],
   "source": [
    "y_test = test[steps:].reset_index(drop=True)\n",
    "\n",
    "# Visualise the ask_price predictions\n",
    "plt.figure(figsize = (18,9))\n",
    "plt.plot(y_test['ask_price'], color = 'red', label = 'y_test')\n",
    "plt.plot(y_hat[:,0], color = 'blue', label = 'y_hat')\n",
    "plt.title('y_hat[\"ask_price\"] vs y_test[\"ask_price\"]')\n",
    "plt.ylabel('ask_price')\n",
    "plt.legend()\n",
    "plt.show()\n",
    "\n",
    "# Visualise the bid_price predictions\n",
    "plt.figure(figsize = (18,9))\n",
    "plt.plot(y_test['bid_price'], color = 'red', label = 'y_test')\n",
    "plt.plot(y_hat[:,3], color = 'blue', label = 'y_hat')\n",
    "plt.title('y_hat[\"bid_price\"] vs y_test[\"bid_price\"]')\n",
    "plt.ylabel('bid_price')\n",
    "plt.legend()\n",
    "plt.show()"
   ]
  },
  {
   "cell_type": "code",
   "execution_count": null,
   "metadata": {},
   "outputs": [],
   "source": []
  }
 ],
 "metadata": {
  "kernelspec": {
   "display_name": "Python 3",
   "language": "python",
   "name": "python3"
  },
  "language_info": {
   "codemirror_mode": {
    "name": "ipython",
    "version": 3
   },
   "file_extension": ".py",
   "mimetype": "text/x-python",
   "name": "python",
   "nbconvert_exporter": "python",
   "pygments_lexer": "ipython3",
   "version": "3.7.7"
  }
 },
 "nbformat": 4,
 "nbformat_minor": 4
}
