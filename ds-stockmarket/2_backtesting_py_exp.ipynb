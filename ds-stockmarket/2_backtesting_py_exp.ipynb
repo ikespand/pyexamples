{
 "cells": [
  {
   "cell_type": "markdown",
   "metadata": {},
   "source": [
    "# Experiments with backtesting.py\n",
    "This notebook is to explore the `backtesting.py` to evaluate strategy:\n",
    "1. Based on conventional TA (talib etc.)\n",
    "2. See how can we introduce ML model as TA"
   ]
  },
  {
   "cell_type": "markdown",
   "metadata": {},
   "source": [
    "Install ta-lib on Mac with brew first `brew install ta-lib` and then `pip install TA-Lib`"
   ]
  },
  {
   "cell_type": "code",
   "execution_count": 1,
   "metadata": {},
   "outputs": [
    {
     "name": "stderr",
     "output_type": "stream",
     "text": [
      "/Users/ikespand/anaconda3/envs/py311/lib/python3.11/site-packages/tqdm/auto.py:21: TqdmWarning: IProgress not found. Please update jupyter and ipywidgets. See https://ipywidgets.readthedocs.io/en/stable/user_install.html\n",
      "  from .autonotebook import tqdm as notebook_tqdm\n",
      "/Users/ikespand/anaconda3/envs/py311/lib/python3.11/site-packages/backtesting/_plotting.py:55: UserWarning: Jupyter Notebook detected. Setting Bokeh output to notebook. This may not work in Jupyter clients without JavaScript support, such as old IDEs. Reset with `backtesting.set_bokeh_output(notebook=False)`.\n",
      "  warnings.warn('Jupyter Notebook detected. '\n"
     ]
    },
    {
     "data": {
      "text/html": [
       "    <style>\n",
       "        .bk-notebook-logo {\n",
       "            display: block;\n",
       "            width: 20px;\n",
       "            height: 20px;\n",
       "            background-image: url(data:image/png;base64,iVBORw0KGgoAAAANSUhEUgAAABQAAAAUCAYAAACNiR0NAAAABHNCSVQICAgIfAhkiAAAAAlwSFlzAAALEgAACxIB0t1+/AAAABx0RVh0U29mdHdhcmUAQWRvYmUgRmlyZXdvcmtzIENTNui8sowAAAOkSURBVDiNjZRtaJVlGMd/1/08zzln5zjP1LWcU9N0NkN8m2CYjpgQYQXqSs0I84OLIC0hkEKoPtiH3gmKoiJDU7QpLgoLjLIQCpEsNJ1vqUOdO7ppbuec5+V+rj4ctwzd8IIbbi6u+8f1539dt3A78eXC7QizUF7gyV1fD1Yqg4JWz84yffhm0qkFqBogB9rM8tZdtwVsPUhWhGcFJngGeWrPzHm5oaMmkfEg1usvLFyc8jLRqDOMru7AyC8saQr7GG7f5fvDeH7Ej8CM66nIF+8yngt6HWaKh7k49Soy9nXurCi1o3qUbS3zWfrYeQDTB/Qj6kX6Ybhw4B+bOYoLKCC9H3Nu/leUTZ1JdRWkkn2ldcCamzrcf47KKXdAJllSlxAOkRgyHsGC/zRday5Qld9DyoM4/q/rUoy/CXh3jzOu3bHUVZeU+DEn8FInkPBFlu3+nW3Nw0mk6vCDiWg8CeJaxEwuHS3+z5RgY+YBR6V1Z1nxSOfoaPa4LASWxxdNp+VWTk7+4vzaou8v8PN+xo+KY2xsw6une2frhw05CTYOmQvsEhjhWjn0bmXPjpE1+kplmmkP3suftwTubK9Vq22qKmrBhpY4jvd5afdRA3wGjFAgcnTK2s4hY0/GPNIb0nErGMCRxWOOX64Z8RAC4oCXdklmEvcL8o0BfkNK4lUg9HTl+oPlQxdNo3Mg4Nv175e/1LDGzZen30MEjRUtmXSfiTVu1kK8W4txyV6BMKlbgk3lMwYCiusNy9fVfvvwMxv8Ynl6vxoByANLTWplvuj/nF9m2+PDtt1eiHPBr1oIfhCChQMBw6Aw0UulqTKZdfVvfG7VcfIqLG9bcldL/+pdWTLxLUy8Qq38heUIjh4XlzZxzQm19lLFlr8vdQ97rjZVOLf8nclzckbcD4wxXMidpX30sFd37Fv/GtwwhzhxGVAprjbg0gCAEeIgwCZyTV2Z1REEW8O4py0wsjeloKoMr6iCY6dP92H6Vw/oTyICIthibxjm/DfN9lVz8IqtqKYLUXfoKVMVQVVJOElGjrnnUt9T9wbgp8AyYKaGlqingHZU/uG2NTZSVqwHQTWkx9hxjkpWDaCg6Ckj5qebgBVbT3V3NNXMSiWSDdGV3hrtzla7J+duwPOToIg42ChPQOQjspnSlp1V+Gjdged7+8UN5CRAV7a5EdFNwCjEaBR27b3W890TE7g24NAP/mMDXRWrGoFPQI9ls/MWO2dWFAar/xcOIImbbpA3zgAAAABJRU5ErkJggg==);\n",
       "        }\n",
       "    </style>\n",
       "    <div>\n",
       "        <a href=\"https://bokeh.org\" target=\"_blank\" class=\"bk-notebook-logo\"></a>\n",
       "        <span id=\"c4876189-9311-4bf5-8b9d-f25a20348209\">Loading BokehJS ...</span>\n",
       "    </div>\n"
      ]
     },
     "metadata": {},
     "output_type": "display_data"
    },
    {
     "data": {
      "application/javascript": "'use strict';\n(function(root) {\n  function now() {\n    return new Date();\n  }\n\n  const force = true;\n\n  if (typeof root._bokeh_onload_callbacks === \"undefined\" || force === true) {\n    root._bokeh_onload_callbacks = [];\n    root._bokeh_is_loading = undefined;\n  }\n\nconst JS_MIME_TYPE = 'application/javascript';\n  const HTML_MIME_TYPE = 'text/html';\n  const EXEC_MIME_TYPE = 'application/vnd.bokehjs_exec.v0+json';\n  const CLASS_NAME = 'output_bokeh rendered_html';\n\n  /**\n   * Render data to the DOM node\n   */\n  function render(props, node) {\n    const script = document.createElement(\"script\");\n    node.appendChild(script);\n  }\n\n  /**\n   * Handle when an output is cleared or removed\n   */\n  function handleClearOutput(event, handle) {\n    function drop(id) {\n      const view = Bokeh.index.get_by_id(id)\n      if (view != null) {\n        view.model.document.clear()\n        Bokeh.index.delete(view)\n      }\n    }\n\n    const cell = handle.cell;\n\n    const id = cell.output_area._bokeh_element_id;\n    const server_id = cell.output_area._bokeh_server_id;\n\n    // Clean up Bokeh references\n    if (id != null) {\n      drop(id)\n    }\n\n    if (server_id !== undefined) {\n      // Clean up Bokeh references\n      const cmd_clean = \"from bokeh.io.state import curstate; print(curstate().uuid_to_server['\" + server_id + \"'].get_sessions()[0].document.roots[0]._id)\";\n      cell.notebook.kernel.execute(cmd_clean, {\n        iopub: {\n          output: function(msg) {\n            const id = msg.content.text.trim()\n            drop(id)\n          }\n        }\n      });\n      // Destroy server and session\n      const cmd_destroy = \"import bokeh.io.notebook as ion; ion.destroy_server('\" + server_id + \"')\";\n      cell.notebook.kernel.execute(cmd_destroy);\n    }\n  }\n\n  /**\n   * Handle when a new output is added\n   */\n  function handleAddOutput(event, handle) {\n    const output_area = handle.output_area;\n    const output = handle.output;\n\n    // limit handleAddOutput to display_data with EXEC_MIME_TYPE content only\n    if ((output.output_type != \"display_data\") || (!Object.prototype.hasOwnProperty.call(output.data, EXEC_MIME_TYPE))) {\n      return\n    }\n\n    const toinsert = output_area.element.find(\".\" + CLASS_NAME.split(' ')[0]);\n\n    if (output.metadata[EXEC_MIME_TYPE][\"id\"] !== undefined) {\n      toinsert[toinsert.length - 1].firstChild.textContent = output.data[JS_MIME_TYPE];\n      // store reference to embed id on output_area\n      output_area._bokeh_element_id = output.metadata[EXEC_MIME_TYPE][\"id\"];\n    }\n    if (output.metadata[EXEC_MIME_TYPE][\"server_id\"] !== undefined) {\n      const bk_div = document.createElement(\"div\");\n      bk_div.innerHTML = output.data[HTML_MIME_TYPE];\n      const script_attrs = bk_div.children[0].attributes;\n      for (let i = 0; i < script_attrs.length; i++) {\n        toinsert[toinsert.length - 1].firstChild.setAttribute(script_attrs[i].name, script_attrs[i].value);\n        toinsert[toinsert.length - 1].firstChild.textContent = bk_div.children[0].textContent\n      }\n      // store reference to server id on output_area\n      output_area._bokeh_server_id = output.metadata[EXEC_MIME_TYPE][\"server_id\"];\n    }\n  }\n\n  function register_renderer(events, OutputArea) {\n\n    function append_mime(data, metadata, element) {\n      // create a DOM node to render to\n      const toinsert = this.create_output_subarea(\n        metadata,\n        CLASS_NAME,\n        EXEC_MIME_TYPE\n      );\n      this.keyboard_manager.register_events(toinsert);\n      // Render to node\n      const props = {data: data, metadata: metadata[EXEC_MIME_TYPE]};\n      render(props, toinsert[toinsert.length - 1]);\n      element.append(toinsert);\n      return toinsert\n    }\n\n    /* Handle when an output is cleared or removed */\n    events.on('clear_output.CodeCell', handleClearOutput);\n    events.on('delete.Cell', handleClearOutput);\n\n    /* Handle when a new output is added */\n    events.on('output_added.OutputArea', handleAddOutput);\n\n    /**\n     * Register the mime type and append_mime function with output_area\n     */\n    OutputArea.prototype.register_mime_type(EXEC_MIME_TYPE, append_mime, {\n      /* Is output safe? */\n      safe: true,\n      /* Index of renderer in `output_area.display_order` */\n      index: 0\n    });\n  }\n\n  // register the mime type if in Jupyter Notebook environment and previously unregistered\n  if (root.Jupyter !== undefined) {\n    const events = require('base/js/events');\n    const OutputArea = require('notebook/js/outputarea').OutputArea;\n\n    if (OutputArea.prototype.mime_types().indexOf(EXEC_MIME_TYPE) == -1) {\n      register_renderer(events, OutputArea);\n    }\n  }\n  if (typeof (root._bokeh_timeout) === \"undefined\" || force === true) {\n    root._bokeh_timeout = Date.now() + 5000;\n    root._bokeh_failed_load = false;\n  }\n\n  const NB_LOAD_WARNING = {'data': {'text/html':\n     \"<div style='background-color: #fdd'>\\n\"+\n     \"<p>\\n\"+\n     \"BokehJS does not appear to have successfully loaded. If loading BokehJS from CDN, this \\n\"+\n     \"may be due to a slow or bad network connection. Possible fixes:\\n\"+\n     \"</p>\\n\"+\n     \"<ul>\\n\"+\n     \"<li>re-rerun `output_notebook()` to attempt to load from CDN again, or</li>\\n\"+\n     \"<li>use INLINE resources instead, as so:</li>\\n\"+\n     \"</ul>\\n\"+\n     \"<code>\\n\"+\n     \"from bokeh.resources import INLINE\\n\"+\n     \"output_notebook(resources=INLINE)\\n\"+\n     \"</code>\\n\"+\n     \"</div>\"}};\n\n  function display_loaded(error = null) {\n    const el = document.getElementById(\"c4876189-9311-4bf5-8b9d-f25a20348209\");\n    if (el != null) {\n      const html = (() => {\n        if (typeof root.Bokeh === \"undefined\") {\n          if (error == null) {\n            return \"BokehJS is loading ...\";\n          } else {\n            return \"BokehJS failed to load.\";\n          }\n        } else {\n          const prefix = `BokehJS ${root.Bokeh.version}`;\n          if (error == null) {\n            return `${prefix} successfully loaded.`;\n          } else {\n            return `${prefix} <b>encountered errors</b> while loading and may not function as expected.`;\n          }\n        }\n      })();\n      el.innerHTML = html;\n\n      if (error != null) {\n        const wrapper = document.createElement(\"div\");\n        wrapper.style.overflow = \"auto\";\n        wrapper.style.height = \"5em\";\n        wrapper.style.resize = \"vertical\";\n        const content = document.createElement(\"div\");\n        content.style.fontFamily = \"monospace\";\n        content.style.whiteSpace = \"pre-wrap\";\n        content.style.backgroundColor = \"rgb(255, 221, 221)\";\n        content.textContent = error.stack ?? error.toString();\n        wrapper.append(content);\n        el.append(wrapper);\n      }\n    } else if (Date.now() < root._bokeh_timeout) {\n      setTimeout(() => display_loaded(error), 100);\n    }\n  }\n\n  function run_callbacks() {\n    try {\n      root._bokeh_onload_callbacks.forEach(function(callback) {\n        if (callback != null)\n          callback();\n      });\n    } finally {\n      delete root._bokeh_onload_callbacks\n    }\n    console.debug(\"Bokeh: all callbacks have finished\");\n  }\n\n  function load_libs(css_urls, js_urls, callback) {\n    if (css_urls == null) css_urls = [];\n    if (js_urls == null) js_urls = [];\n\n    root._bokeh_onload_callbacks.push(callback);\n    if (root._bokeh_is_loading > 0) {\n      console.debug(\"Bokeh: BokehJS is being loaded, scheduling callback at\", now());\n      return null;\n    }\n    if (js_urls == null || js_urls.length === 0) {\n      run_callbacks();\n      return null;\n    }\n    console.debug(\"Bokeh: BokehJS not loaded, scheduling load and callback at\", now());\n    root._bokeh_is_loading = css_urls.length + js_urls.length;\n\n    function on_load() {\n      root._bokeh_is_loading--;\n      if (root._bokeh_is_loading === 0) {\n        console.debug(\"Bokeh: all BokehJS libraries/stylesheets loaded\");\n        run_callbacks()\n      }\n    }\n\n    function on_error(url) {\n      console.error(\"failed to load \" + url);\n    }\n\n    for (let i = 0; i < css_urls.length; i++) {\n      const url = css_urls[i];\n      const element = document.createElement(\"link\");\n      element.onload = on_load;\n      element.onerror = on_error.bind(null, url);\n      element.rel = \"stylesheet\";\n      element.type = \"text/css\";\n      element.href = url;\n      console.debug(\"Bokeh: injecting link tag for BokehJS stylesheet: \", url);\n      document.body.appendChild(element);\n    }\n\n    for (let i = 0; i < js_urls.length; i++) {\n      const url = js_urls[i];\n      const element = document.createElement('script');\n      element.onload = on_load;\n      element.onerror = on_error.bind(null, url);\n      element.async = false;\n      element.src = url;\n      console.debug(\"Bokeh: injecting script tag for BokehJS library: \", url);\n      document.head.appendChild(element);\n    }\n  };\n\n  function inject_raw_css(css) {\n    const element = document.createElement(\"style\");\n    element.appendChild(document.createTextNode(css));\n    document.body.appendChild(element);\n  }\n\n  const js_urls = [\"https://cdn.bokeh.org/bokeh/release/bokeh-3.7.0.min.js\", \"https://cdn.bokeh.org/bokeh/release/bokeh-gl-3.7.0.min.js\", \"https://cdn.bokeh.org/bokeh/release/bokeh-widgets-3.7.0.min.js\", \"https://cdn.bokeh.org/bokeh/release/bokeh-tables-3.7.0.min.js\", \"https://cdn.bokeh.org/bokeh/release/bokeh-mathjax-3.7.0.min.js\"];\n  const css_urls = [];\n\n  const inline_js = [    function(Bokeh) {\n      Bokeh.set_log_level(\"info\");\n    },\nfunction(Bokeh) {\n    }\n  ];\n\n  function run_inline_js() {\n    if (root.Bokeh !== undefined || force === true) {\n      try {\n            for (let i = 0; i < inline_js.length; i++) {\n      inline_js[i].call(root, root.Bokeh);\n    }\n\n      } catch (error) {display_loaded(error);throw error;\n      }if (force === true) {\n        display_loaded();\n      }} else if (Date.now() < root._bokeh_timeout) {\n      setTimeout(run_inline_js, 100);\n    } else if (!root._bokeh_failed_load) {\n      console.log(\"Bokeh: BokehJS failed to load within specified timeout.\");\n      root._bokeh_failed_load = true;\n    } else if (force !== true) {\n      const cell = $(document.getElementById(\"c4876189-9311-4bf5-8b9d-f25a20348209\")).parents('.cell').data().cell;\n      cell.output_area.append_execute_result(NB_LOAD_WARNING)\n    }\n  }\n\n  if (root._bokeh_is_loading === 0) {\n    console.debug(\"Bokeh: BokehJS loaded, going straight to plotting\");\n    run_inline_js();\n  } else {\n    load_libs(css_urls, js_urls, function() {\n      console.debug(\"Bokeh: BokehJS plotting callback run at\", now());\n      run_inline_js();\n    });\n  }\n}(window));",
      "application/vnd.bokehjs_load.v0+json": ""
     },
     "metadata": {},
     "output_type": "display_data"
    }
   ],
   "source": [
    "import pandas as pd\n",
    "import pandas_ta as ta\n",
    "import numpy as np\n",
    "from backtesting import Backtest, Strategy\n",
    "from backtesting.lib import crossover\n",
    "from backtesting.test import SMA, GOOG\n",
    "import yfinance as yf\n",
    "import talib \n",
    "from utils import get_stock_data\n",
    "import time\n",
    "import warnings"
   ]
  },
  {
   "cell_type": "markdown",
   "metadata": {},
   "source": [
    "### 1. Standard Examples\n",
    "First, use standard example; where goal is just to see how we can use the library. In the following, we will use SMA as an indicator which is already available in `backtesting.py`. We will also use stop loss and take profit to limit the exposure and to ensure risk-reward ratio."
   ]
  },
  {
   "cell_type": "code",
   "execution_count": 2,
   "metadata": {},
   "outputs": [
    {
     "name": "stderr",
     "output_type": "stream",
     "text": [
      "                                                      \r"
     ]
    },
    {
     "name": "stdout",
     "output_type": "stream",
     "text": [
      "Start                     2004-08-19 00:00:00\n",
      "End                       2013-03-01 00:00:00\n",
      "Duration                   3116 days 00:00:00\n",
      "Exposure Time [%]                     9.82309\n",
      "Equity Final [$]                  11532.01791\n",
      "Equity Peak [$]                   12667.87271\n",
      "Commissions [$]                    2041.36509\n",
      "Return [%]                           15.32018\n",
      "Buy & Hold Return [%]               607.37036\n",
      "Return (Ann.) [%]                     1.68634\n",
      "Volatility (Ann.) [%]                 6.32304\n",
      "CAGR [%]                              1.15945\n",
      "Sharpe Ratio                           0.2667\n",
      "Sortino Ratio                         0.40031\n",
      "Calmar Ratio                          0.14875\n",
      "Alpha [%]                            -4.51391\n",
      "Beta                                  0.03266\n",
      "Max. Drawdown [%]                   -11.33648\n",
      "Avg. Drawdown [%]                    -3.53535\n",
      "Max. Drawdown Duration      742 days 00:00:00\n",
      "Avg. Drawdown Duration      172 days 00:00:00\n",
      "# Trades                                   47\n",
      "Win Rate [%]                         46.80851\n",
      "Best Trade [%]                        5.31909\n",
      "Worst Trade [%]                      -4.00182\n",
      "Avg. Trade [%]                        0.71138\n",
      "Max. Trade Duration          26 days 00:00:00\n",
      "Avg. Trade Duration           6 days 00:00:00\n",
      "Profit Factor                         1.81242\n",
      "Expectancy [%]                        0.75151\n",
      "SQN                                   1.67091\n",
      "Kelly Criterion                        0.1761\n",
      "_strategy                    SmaCrossWithSLTP\n",
      "_equity_curve                             ...\n",
      "_trades                       Size  EntryB...\n",
      "dtype: object\n"
     ]
    }
   ],
   "source": [
    "class SmaCrossWithSLTP(Strategy):\n",
    "    short_window = 10  # Fast SMA\n",
    "    long_window = 20   # Slow SMA\n",
    "    stop_loss_pct = 0.02   # 2% Stop Loss\n",
    "    take_profit_pct = 0.04  # 4% Take Profit\n",
    "    \n",
    "    # All the necessary indicator needs to define in the init method\n",
    "    def init(self):\n",
    "        self.sma_short = self.I(SMA, self.data.Close, self.short_window)\n",
    "        self.sma_long = self.I(SMA, self.data.Close, self.long_window)\n",
    "    \n",
    "    # It defines the logic of the strategy\n",
    "    def next(self):\n",
    "        price = self.data.Close[-1]  # Current price\n",
    "        if crossover(self.sma_short, self.sma_long):  # Buy condition\n",
    "            stop_loss = price * (1 - self.stop_loss_pct)\n",
    "            take_profit = price * (1 + self.take_profit_pct)\n",
    "            self.buy(sl=stop_loss, tp=take_profit)  # Order with SL and TP\n",
    "        \n",
    "        elif crossover(self.sma_long, self.sma_short):  # Sell condition\n",
    "            self.position.close()  # Close existing position\n",
    "\n",
    "# Load sample data which comes with the library to test\n",
    "df = GOOG\n",
    "\n",
    "# Run Backtest\n",
    "bt = Backtest(df, SmaCrossWithSLTP, cash=10000, commission=0.002)\n",
    "stats = bt.run()\n",
    "print(stats)\n",
    "# bt.plot()"
   ]
  },
  {
   "cell_type": "markdown",
   "metadata": {},
   "source": [
    "## 2a. Integrating other indicators from TA-LIB\n",
    "Now, moving to `ta-lib` for more indicators. In the following, we will use RSI along with SL and TP."
   ]
  },
  {
   "cell_type": "code",
   "execution_count": 13,
   "metadata": {},
   "outputs": [
    {
     "name": "stderr",
     "output_type": "stream",
     "text": [
      "Backtest.run:   0%|          | 0/519 [00:00<?, ?it/s]/Users/ikespand/anaconda3/envs/py311/lib/python3.11/site-packages/backtesting/backtesting.py:955: UserWarning: time=380: Broker canceled the relative-sized order due to insufficient margin.\n",
      "  warnings.warn(\n",
      "/Users/ikespand/anaconda3/envs/py311/lib/python3.11/site-packages/backtesting/backtesting.py:955: UserWarning: time=381: Broker canceled the relative-sized order due to insufficient margin.\n",
      "  warnings.warn(\n",
      "                                                     \r"
     ]
    },
    {
     "name": "stdout",
     "output_type": "stream",
     "text": [
      "Start                     2023-02-01 00:00:00\n",
      "End                       2025-03-19 00:00:00\n",
      "Duration                    777 days 00:00:00\n",
      "Exposure Time [%]                     1.31086\n",
      "Equity Final [$]                  10278.12869\n",
      "Equity Peak [$]                   10278.12869\n",
      "Commissions [$]                      77.58101\n",
      "Return [%]                            2.78129\n",
      "Buy & Hold Return [%]                 56.6491\n",
      "Return (Ann.) [%]                     1.30301\n",
      "Volatility (Ann.) [%]                 1.55292\n",
      "CAGR [%]                              0.89369\n",
      "Sharpe Ratio                          0.83907\n",
      "Sortino Ratio                         3.39637\n",
      "Calmar Ratio                           1.3681\n",
      "Alpha [%]                             2.48898\n",
      "Beta                                  0.00516\n",
      "Max. Drawdown [%]                    -0.95243\n",
      "Avg. Drawdown [%]                    -0.95243\n",
      "Max. Drawdown Duration        6 days 00:00:00\n",
      "Avg. Drawdown Duration        6 days 00:00:00\n",
      "# Trades                                    2\n",
      "Win Rate [%]                             50.0\n",
      "Best Trade [%]                        3.72688\n",
      "Worst Trade [%]                           0.0\n",
      "Avg. Trade [%]                        1.84639\n",
      "Max. Trade Duration           7 days 00:00:00\n",
      "Avg. Trade Duration           4 days 00:00:00\n",
      "Profit Factor                             NaN\n",
      "Expectancy [%]                        1.86344\n",
      "SQN                                       1.0\n",
      "Kelly Criterion                           NaN\n",
      "_strategy                      RsiSmaStrategy\n",
      "_equity_curve                             ...\n",
      "_trades                      Size  EntryBa...\n",
      "dtype: object\n"
     ]
    }
   ],
   "source": [
    "class RsiSmaStrategy(Strategy):\n",
    "    rsi_period = 14    # RSI period\n",
    "    rsi_buy = 30       # RSI oversold threshold\n",
    "    rsi_sell = 70      # RSI overbought threshold\n",
    "    stop_loss_pct = 0.02  # 2% stop-loss\n",
    "    take_profit_pct = 0.05  # 5% take-profit\n",
    "\n",
    "    def init(self):    \n",
    "        self.rsi = self.I(talib.RSI, self.data.Close, self.rsi_period)\n",
    "\n",
    "    def next(self):\n",
    "        # Entry Condition: RSI below 30 & SMA crossover\n",
    "        if self.rsi[-1] < self.rsi_buy :\n",
    "            price = self.data.Close[-1]\n",
    "            sl = price * (1 - self.stop_loss_pct)  # Stop-Loss 2% below entry\n",
    "            tp = price * (1 + self.take_profit_pct)  # Take-Profit 5% above entry\n",
    "            self.buy(sl=sl, tp=tp)  # Place order with SL & TP\n",
    "\n",
    "        # Exit Condition: RSI above 70 OR SMA crossover in opposite direction\n",
    "        elif self.rsi[-1] > self.rsi_sell:\n",
    "            self.position.close()\n",
    "\n",
    "df = get_stock_data(\"MSFT\", interval=\"1d\", start=\"2023-02-01\", end=\"2025-03-20\")\n",
    "\n",
    "# Run Backtest\n",
    "bt = Backtest(df, RsiSmaStrategy, cash=10000, commission=0.002)\n",
    "stats = bt.run()\n",
    "\n",
    "# Print Results\n",
    "print(stats)\n",
    "# Save HTML file for plots for in-browser visualization\n",
    "# bt.plot(filename=\"rsi_strategy.html\")"
   ]
  },
  {
   "cell_type": "markdown",
   "metadata": {},
   "source": [
    "## 2b. Using pandas_ta  \n",
    "`pandas_ta` is a simpler wrapper for dataframe. Some of the TA are build upon above-used `ta-lib` so install both."
   ]
  },
  {
   "cell_type": "code",
   "execution_count": 14,
   "metadata": {},
   "outputs": [
    {
     "name": "stderr",
     "output_type": "stream",
     "text": [
      "Backtest.run:   0%|          | 0/519 [00:00<?, ?it/s]/Users/ikespand/anaconda3/envs/py311/lib/python3.11/site-packages/backtesting/backtesting.py:955: UserWarning: time=380: Broker canceled the relative-sized order due to insufficient margin.\n",
      "  warnings.warn(\n",
      "/Users/ikespand/anaconda3/envs/py311/lib/python3.11/site-packages/backtesting/backtesting.py:955: UserWarning: time=381: Broker canceled the relative-sized order due to insufficient margin.\n",
      "  warnings.warn(\n",
      "                                                     "
     ]
    },
    {
     "name": "stdout",
     "output_type": "stream",
     "text": [
      "Start                     2023-02-01 00:00:00\n",
      "End                       2025-03-19 00:00:00\n",
      "Duration                    777 days 00:00:00\n",
      "Exposure Time [%]                     1.31086\n",
      "Equity Final [$]                  10278.12869\n",
      "Equity Peak [$]                   10278.12869\n",
      "Commissions [$]                      77.58101\n",
      "Return [%]                            2.78129\n",
      "Buy & Hold Return [%]                 56.6491\n",
      "Return (Ann.) [%]                     1.30301\n",
      "Volatility (Ann.) [%]                 1.55292\n",
      "CAGR [%]                              0.89369\n",
      "Sharpe Ratio                          0.83907\n",
      "Sortino Ratio                         3.39637\n",
      "Calmar Ratio                           1.3681\n",
      "Alpha [%]                             2.48898\n",
      "Beta                                  0.00516\n",
      "Max. Drawdown [%]                    -0.95243\n",
      "Avg. Drawdown [%]                    -0.95243\n",
      "Max. Drawdown Duration        6 days 00:00:00\n",
      "Avg. Drawdown Duration        6 days 00:00:00\n",
      "# Trades                                    2\n",
      "Win Rate [%]                             50.0\n",
      "Best Trade [%]                        3.72688\n",
      "Worst Trade [%]                           0.0\n",
      "Avg. Trade [%]                        1.84639\n",
      "Max. Trade Duration           7 days 00:00:00\n",
      "Avg. Trade Duration           4 days 00:00:00\n",
      "Profit Factor                             NaN\n",
      "Expectancy [%]                        1.86344\n",
      "SQN                                       1.0\n",
      "Kelly Criterion                           NaN\n",
      "_strategy                      RsiSmaStrategy\n",
      "_equity_curve                             ...\n",
      "_trades                      Size  EntryBa...\n",
      "dtype: object\n"
     ]
    },
    {
     "name": "stderr",
     "output_type": "stream",
     "text": [
      "\r"
     ]
    }
   ],
   "source": [
    "class RsiSmaStrategy(Strategy):\n",
    "    rsi_period = 14\n",
    "    rsi_buy = 30\n",
    "    rsi_sell = 70\n",
    "    stop_loss_pct = 0.02\n",
    "    take_profit_pct = 0.05\n",
    "\n",
    "    def init(self):\n",
    "        # Compute RSI using pandas_ta\n",
    "        rsi_series = self.data.df.ta.rsi(length=self.rsi_period)\n",
    "        self.rsi = self.I(lambda: rsi_series)\n",
    "\n",
    "    def next(self):\n",
    "        if self.rsi[-1] < self.rsi_buy:\n",
    "            price = self.data.Close[-1]\n",
    "            sl = price * (1 - self.stop_loss_pct)\n",
    "            tp = price * (1 + self.take_profit_pct)\n",
    "            self.buy(sl=sl, tp=tp)\n",
    "\n",
    "        elif self.rsi[-1] > self.rsi_sell:\n",
    "            self.position.close()\n",
    "\n",
    "# Assuming get_stock_data returns a DataFrame with OHLCV\n",
    "df = get_stock_data(\"MSFT\", interval=\"1d\", start=\"2023-02-01\", end=\"2025-03-20\")\n",
    "\n",
    "# Run Backtest\n",
    "bt = Backtest(df, RsiSmaStrategy, cash=10000, commission=0.002)\n",
    "stats = bt.run()\n",
    "\n",
    "print(stats)\n",
    "# bt.plot(filename=\"rsi_strategy.html\")\n"
   ]
  },
  {
   "cell_type": "markdown",
   "metadata": {},
   "source": [
    "#### More TA based strategigies (Bollinger band)"
   ]
  },
  {
   "cell_type": "code",
   "execution_count": 15,
   "metadata": {},
   "outputs": [
    {
     "name": "stderr",
     "output_type": "stream",
     "text": [
      "                                                     "
     ]
    },
    {
     "name": "stdout",
     "output_type": "stream",
     "text": [
      "Start                     2023-02-01 00:00:00\n",
      "End                       2025-03-19 00:00:00\n",
      "Duration                    777 days 00:00:00\n",
      "Exposure Time [%]                      1.1236\n",
      "Equity Final [$]                  10330.02134\n",
      "Equity Peak [$]                   10330.02134\n",
      "Commissions [$]                      40.50959\n",
      "Return [%]                            3.30021\n",
      "Buy & Hold Return [%]                59.98219\n",
      "Return (Ann.) [%]                     1.54406\n",
      "Volatility (Ann.) [%]                 1.58944\n",
      "CAGR [%]                              1.05862\n",
      "Sharpe Ratio                          0.97145\n",
      "Sortino Ratio                         5.38308\n",
      "Calmar Ratio                          2.62117\n",
      "Alpha [%]                             3.05516\n",
      "Beta                                  0.00409\n",
      "Max. Drawdown [%]                    -0.58907\n",
      "Avg. Drawdown [%]                    -0.58907\n",
      "Max. Drawdown Duration        3 days 00:00:00\n",
      "Avg. Drawdown Duration        3 days 00:00:00\n",
      "# Trades                                    1\n",
      "Win Rate [%]                            100.0\n",
      "Best Trade [%]                        3.72688\n",
      "Worst Trade [%]                       3.72688\n",
      "Avg. Trade [%]                        3.72688\n",
      "Max. Trade Duration           7 days 00:00:00\n",
      "Avg. Trade Duration           7 days 00:00:00\n",
      "Profit Factor                             NaN\n",
      "Expectancy [%]                        3.72688\n",
      "SQN                                       NaN\n",
      "Kelly Criterion                           NaN\n",
      "_strategy                 RsiBollingerStra...\n",
      "_equity_curve                             ...\n",
      "_trades                      Size  EntryBa...\n",
      "dtype: object\n"
     ]
    },
    {
     "name": "stderr",
     "output_type": "stream",
     "text": [
      "\r"
     ]
    }
   ],
   "source": [
    "class RsiBollingerStrategy(Strategy):\n",
    "    rsi_period = 14\n",
    "    rsi_buy = 30\n",
    "    rsi_sell = 70\n",
    "    bb_period = 20\n",
    "    bb_std = 2\n",
    "    stop_loss_pct = 0.02\n",
    "    take_profit_pct = 0.05\n",
    "\n",
    "    def init(self):\n",
    "        df = self.data.df\n",
    "\n",
    "        # Indicators from pandas_ta\n",
    "        self.rsi = self.I(lambda: df.ta.rsi(length=self.rsi_period))\n",
    "        bb = df.ta.bbands(length=self.bb_period, std=self.bb_std)\n",
    "\n",
    "        # Use lower & upper bands from BB\n",
    "        self.bb_lower = self.I(lambda: bb['BBL_20_2.0'])\n",
    "        self.bb_upper = self.I(lambda: bb['BBU_20_2.0'])\n",
    "\n",
    "    def next(self):\n",
    "        price = self.data.Close[-1]\n",
    "\n",
    "        # Buy condition: RSI < 30 and price below lower BB\n",
    "        if self.rsi[-1] < self.rsi_buy and price < self.bb_lower[-1]:\n",
    "            sl = price * (1 - self.stop_loss_pct)\n",
    "            tp = price * (1 + self.take_profit_pct)\n",
    "            self.buy(sl=sl, tp=tp)\n",
    "\n",
    "        # Sell condition: RSI > 70 or price > upper BB\n",
    "        elif self.position:\n",
    "            if self.rsi[-1] > self.rsi_sell or price > self.bb_upper[-1]:\n",
    "                self.position.close()\n",
    "\n",
    "# Fetch data\n",
    "df = get_stock_data(\"MSFT\", interval=\"1d\", start=\"2023-02-01\", end=\"2025-03-20\")\n",
    "\n",
    "# Run backtest\n",
    "bt = Backtest(df, RsiBollingerStrategy, cash=10000, commission=0.002)\n",
    "stats = bt.run()\n",
    "\n",
    "print(stats)\n",
    "# bt.plot(filename=\"rsi_bb_strategy.html\")\n"
   ]
  },
  {
   "cell_type": "code",
   "execution_count": 16,
   "metadata": {},
   "outputs": [
    {
     "name": "stderr",
     "output_type": "stream",
     "text": [
      "                                                     "
     ]
    },
    {
     "name": "stdout",
     "output_type": "stream",
     "text": [
      "Start                     2023-02-01 00:00:00\n",
      "End                       2025-03-19 00:00:00\n",
      "Duration                    777 days 00:00:00\n",
      "Exposure Time [%]                     7.86517\n",
      "Equity Final [$]                  10779.75686\n",
      "Equity Peak [$]                   10779.75686\n",
      "Commissions [$]                     197.13103\n",
      "Return [%]                            7.79757\n",
      "Buy & Hold Return [%]                 5.90621\n",
      "Return (Ann.) [%]                     3.60686\n",
      "Volatility (Ann.) [%]                 6.32538\n",
      "CAGR [%]                              2.46508\n",
      "Sharpe Ratio                          0.57022\n",
      "Sortino Ratio                         0.89976\n",
      "Calmar Ratio                          0.94302\n",
      "Alpha [%]                             7.40682\n",
      "Beta                                  0.06616\n",
      "Max. Drawdown [%]                    -3.82479\n",
      "Avg. Drawdown [%]                    -1.94628\n",
      "Max. Drawdown Duration       90 days 00:00:00\n",
      "Avg. Drawdown Duration       19 days 00:00:00\n",
      "# Trades                                    5\n",
      "Win Rate [%]                             60.0\n",
      "Best Trade [%]                        5.61627\n",
      "Worst Trade [%]                      -2.75051\n",
      "Avg. Trade [%]                        1.92453\n",
      "Max. Trade Duration          20 days 00:00:00\n",
      "Avg. Trade Duration          11 days 00:00:00\n",
      "Profit Factor                         2.87475\n",
      "Expectancy [%]                        1.99669\n",
      "SQN                                   1.05263\n",
      "Kelly Criterion                       0.39223\n",
      "_strategy                 ImprovedRsiBbStr...\n",
      "_equity_curve                             ...\n",
      "_trades                      Size  EntryBa...\n",
      "dtype: object\n"
     ]
    },
    {
     "name": "stderr",
     "output_type": "stream",
     "text": [
      "\r"
     ]
    }
   ],
   "source": [
    "class ImprovedRsiBbStrategy(Strategy):\n",
    "    rsi_period = 14\n",
    "    rsi_buy = 40\n",
    "    rsi_sell = 60\n",
    "    bb_period = 20\n",
    "    bb_std = 2\n",
    "    ema_period = 200\n",
    "    atr_period = 20\n",
    "    risk_factor = 1.5  # Multiplier for ATR for SL/TP\n",
    "\n",
    "    def init(self):\n",
    "        df = self.data.df\n",
    "        self.rsi = self.I(lambda: df.ta.rsi(length=self.rsi_period))\n",
    "        bb = df.ta.bbands(length=self.bb_period, std=self.bb_std)\n",
    "        self.bb_lower = self.I(lambda: bb['BBL_20_2.0'])\n",
    "        self.bb_upper = self.I(lambda: bb['BBU_20_2.0'])\n",
    "        self.ema = self.I(lambda: df.ta.ema(length=self.ema_period))\n",
    "        self.atr = self.I(lambda: df.ta.atr(length=self.atr_period))\n",
    "\n",
    "    def next(self):\n",
    "        price = self.data.Close[-1]\n",
    "\n",
    "        # Long Entry\n",
    "        if not self.position:\n",
    "            if price > self.ema[-1]:  # Trend filter: Only long above EMA\n",
    "                if self.rsi[-1] < self.rsi_buy and price < self.bb_lower[-1]:\n",
    "                    sl = price - self.atr[-1] * self.risk_factor\n",
    "                    tp = price + self.atr[-1] * self.risk_factor * 2\n",
    "                    self.buy(sl=sl, tp=tp)\n",
    "\n",
    "            # Short Entry\n",
    "            elif price < self.ema[-1]:\n",
    "                if self.rsi[-1] > self.rsi_sell and price > self.bb_upper[-1]:\n",
    "                    sl = price + self.atr[-1] * self.risk_factor\n",
    "                    tp = price - self.atr[-1] * self.risk_factor * 2\n",
    "                    self.sell(sl=sl, tp=tp)\n",
    "\n",
    "        else:\n",
    "            # Optional: Add exit logic for open positions if SL/TP not hit\n",
    "            if self.position.is_long and (self.rsi[-1] > 60 or price > self.bb_upper[-1]):\n",
    "                self.position.close()\n",
    "\n",
    "            elif self.position.is_short and (self.rsi[-1] < 40 or price < self.bb_lower[-1]):\n",
    "                self.position.close()\n",
    "\n",
    "\n",
    "df = get_stock_data(\"MSFT\", interval=\"1d\", start=\"2023-02-01\", end=\"2025-03-20\")\n",
    "# Backtest it\n",
    "bt = Backtest(df, ImprovedRsiBbStrategy, cash=10000, commission=0.002)\n",
    "stats = bt.run()\n",
    "print(stats)\n",
    "#bt.plot()\n"
   ]
  },
  {
   "cell_type": "markdown",
   "metadata": {},
   "source": [
    "Giving control to LLM for \"best\" startegy"
   ]
  },
  {
   "cell_type": "code",
   "execution_count": 17,
   "metadata": {},
   "outputs": [
    {
     "name": "stderr",
     "output_type": "stream",
     "text": [
      "                                                     "
     ]
    },
    {
     "name": "stdout",
     "output_type": "stream",
     "text": [
      "Start                     2023-02-01 00:00:00\n",
      "End                       2025-03-19 00:00:00\n",
      "Duration                    777 days 00:00:00\n",
      "Exposure Time [%]                     2.99625\n",
      "Equity Final [$]                   9817.83811\n",
      "Equity Peak [$]                   10202.94688\n",
      "Commissions [$]                     114.40817\n",
      "Return [%]                           -1.82162\n",
      "Buy & Hold Return [%]                56.27101\n",
      "Return (Ann.) [%]                    -0.86381\n",
      "Volatility (Ann.) [%]                 4.10005\n",
      "CAGR [%]                             -0.59447\n",
      "Sharpe Ratio                         -0.21068\n",
      "Sortino Ratio                        -0.24492\n",
      "Calmar Ratio                         -0.11863\n",
      "Alpha [%]                            -3.25188\n",
      "Beta                                  0.02542\n",
      "Max. Drawdown [%]                    -7.28145\n",
      "Avg. Drawdown [%]                    -7.28145\n",
      "Max. Drawdown Duration      329 days 00:00:00\n",
      "Avg. Drawdown Duration      329 days 00:00:00\n",
      "# Trades                                    3\n",
      "Win Rate [%]                         33.33333\n",
      "Best Trade [%]                        3.72688\n",
      "Worst Trade [%]                      -2.23515\n",
      "Avg. Trade [%]                        -0.1911\n",
      "Max. Trade Duration           7 days 00:00:00\n",
      "Avg. Trade Duration           6 days 00:00:00\n",
      "Profit Factor                         0.88984\n",
      "Expectancy [%]                        -0.1538\n",
      "SQN                                  -0.12408\n",
      "Kelly Criterion                      -0.06625\n",
      "_strategy                 RsiWmaBollingerS...\n",
      "_equity_curve                             ...\n",
      "_trades                      Size  EntryBa...\n",
      "dtype: object\n"
     ]
    },
    {
     "name": "stderr",
     "output_type": "stream",
     "text": [
      "\r"
     ]
    }
   ],
   "source": [
    "class RsiWmaBollingerStrategy(Strategy):\n",
    "    rsi_period = 10\n",
    "    rsi_buy = 28\n",
    "    rsi_sell = 60\n",
    "    bb_period = 15\n",
    "    bb_std = 1.5\n",
    "    stop_loss_pct = 0.02\n",
    "    take_profit_pct = 0.05\n",
    "\n",
    "    def init(self):\n",
    "        close = self.data.Close\n",
    "\n",
    "        # Use TA-Lib for all indicators (multiprocessing safe)\n",
    "        self.rsi = talib.RSI(close, timeperiod=self.rsi_period)\n",
    "        self.wma = talib.WMA(close, timeperiod=self.bb_period)\n",
    "        self.std = pd.Series(close).rolling(self.bb_period).std().values\n",
    "\n",
    "        self.bb_upper = self.wma + self.bb_std * self.std\n",
    "        self.bb_lower = self.wma - self.bb_std * self.std\n",
    "\n",
    "    def next(self):\n",
    "        i = len(self.data.Close) - 1\n",
    "        price = self.data.Close[i]\n",
    "\n",
    "        # Handle edge cases\n",
    "        if np.isnan(self.rsi[i]) or np.isnan(self.bb_lower[i]) or np.isnan(self.bb_upper[i]):\n",
    "            return\n",
    "\n",
    "        if self.rsi[i] < self.rsi_buy and price < self.bb_lower[i]:\n",
    "            sl = price * (1 - self.stop_loss_pct)\n",
    "            tp = price * (1 + self.take_profit_pct)\n",
    "            self.buy(sl=sl, tp=tp)\n",
    "\n",
    "        elif self.position:\n",
    "            if self.rsi[i] > self.rsi_sell or price > self.bb_upper[i]:\n",
    "                self.position.close()\n",
    "\n",
    "\n",
    "\n",
    "# Fetch data\n",
    "df = get_stock_data(\"MSFT\", interval=\"1d\", start=\"2023-02-01\", end=\"2025-03-20\")\n",
    "\n",
    "# Run backtest\n",
    "bt = Backtest(df, RsiWmaBollingerStrategy, cash=10000, commission=0.002)\n",
    "stats = bt.run()\n",
    "\n",
    "print(stats)\n",
    "#bt.plot(filename=\"RsiWmaBollingerStrategy.html\")\n"
   ]
  },
  {
   "cell_type": "markdown",
   "metadata": {},
   "source": [
    "At this point, we have few strategies which works good for some and not so good for others. So let's filter/screen positive stock for us"
   ]
  },
  {
   "cell_type": "code",
   "execution_count": 18,
   "metadata": {},
   "outputs": [
    {
     "name": "stdout",
     "output_type": "stream",
     "text": [
      "Running backtest for AAPL...\n"
     ]
    },
    {
     "name": "stderr",
     "output_type": "stream",
     "text": [
      "Backtest.run:   0%|          | 0/533 [00:00<?, ?it/s]/Users/ikespand/anaconda3/envs/py311/lib/python3.11/site-packages/backtesting/backtesting.py:955: UserWarning: time=130: Broker canceled the relative-sized order due to insufficient margin.\n",
      "  warnings.warn(\n",
      "/Users/ikespand/anaconda3/envs/py311/lib/python3.11/site-packages/backtesting/backtesting.py:955: UserWarning: time=275: Broker canceled the relative-sized order due to insufficient margin.\n",
      "  warnings.warn(\n",
      "                                                     \r"
     ]
    },
    {
     "name": "stdout",
     "output_type": "stream",
     "text": [
      "Running backtest for MSFT...\n"
     ]
    },
    {
     "name": "stderr",
     "output_type": "stream",
     "text": [
      "                                                                 \r"
     ]
    },
    {
     "name": "stdout",
     "output_type": "stream",
     "text": [
      "Running backtest for GOOGL...\n"
     ]
    },
    {
     "name": "stderr",
     "output_type": "stream",
     "text": [
      "Backtest.run:   0%|          | 0/533 [00:00<?, ?it/s]/Users/ikespand/anaconda3/envs/py311/lib/python3.11/site-packages/backtesting/backtesting.py:955: UserWarning: time=187: Broker canceled the relative-sized order due to insufficient margin.\n",
      "  warnings.warn(\n",
      "                                                     \r"
     ]
    },
    {
     "name": "stdout",
     "output_type": "stream",
     "text": [
      "Running backtest for AMZN...\n"
     ]
    },
    {
     "name": "stderr",
     "output_type": "stream",
     "text": [
      "Backtest.run:   0%|          | 0/533 [00:00<?, ?it/s]/Users/ikespand/anaconda3/envs/py311/lib/python3.11/site-packages/backtesting/backtesting.py:955: UserWarning: time=380: Broker canceled the relative-sized order due to insufficient margin.\n",
      "  warnings.warn(\n",
      "                                                     \r"
     ]
    },
    {
     "name": "stdout",
     "output_type": "stream",
     "text": [
      "Running backtest for TSLA...\n"
     ]
    },
    {
     "name": "stderr",
     "output_type": "stream",
     "text": [
      "                                                     \r"
     ]
    },
    {
     "name": "stdout",
     "output_type": "stream",
     "text": [
      "Running backtest for NFLX...\n"
     ]
    },
    {
     "name": "stderr",
     "output_type": "stream",
     "text": [
      "                                                     \r"
     ]
    },
    {
     "name": "stdout",
     "output_type": "stream",
     "text": [
      "Running backtest for META...\n"
     ]
    },
    {
     "name": "stderr",
     "output_type": "stream",
     "text": [
      "                                                     \r"
     ]
    },
    {
     "name": "stdout",
     "output_type": "stream",
     "text": [
      "Running backtest for NVDA...\n"
     ]
    },
    {
     "name": "stderr",
     "output_type": "stream",
     "text": [
      "                                                     \r"
     ]
    },
    {
     "name": "stdout",
     "output_type": "stream",
     "text": [
      "Running backtest for AMD...\n"
     ]
    },
    {
     "name": "stderr",
     "output_type": "stream",
     "text": [
      "                                                     \r"
     ]
    },
    {
     "name": "stdout",
     "output_type": "stream",
     "text": [
      "Running backtest for INTC...\n"
     ]
    },
    {
     "name": "stderr",
     "output_type": "stream",
     "text": [
      "                                                     "
     ]
    },
    {
     "name": "stdout",
     "output_type": "stream",
     "text": [
      "  Ticker  Return [%]  Win Rate [%]  Sharpe Ratio  Trades Avg Trade Duration  \\\n",
      "0   AAPL    1.925269     30.000000      0.164315      10             5 days   \n",
      "1   MSFT   -1.821619     33.333333     -0.210684       3             6 days   \n",
      "2  GOOGL   -5.002818     42.857143     -0.285235       7             7 days   \n",
      "3   AMZN   -1.333607     25.000000     -0.219513       4             2 days   \n",
      "4   TSLA    0.214620     23.076923      0.009523      13             1 days   \n",
      "5   NFLX    6.715005     40.000000      0.422290      10             3 days   \n",
      "6   META    8.357799     60.000000      0.883693       5             2 days   \n",
      "7   NVDA    0.000000           NaN           NaN       0                NaT   \n",
      "8    AMD   -1.567559     50.000000     -0.138799       4             3 days   \n",
      "9   INTC  -12.726704      9.090909     -0.861694      11             2 days   \n",
      "\n",
      "   Exposure Time [%]  \n",
      "0           7.490637  \n",
      "1           2.996255  \n",
      "2           6.741573  \n",
      "3           1.685393  \n",
      "4           3.558052  \n",
      "5           5.617978  \n",
      "6           2.059925  \n",
      "7           0.000000  \n",
      "8           1.872659  \n",
      "9           4.119850  \n"
     ]
    },
    {
     "name": "stderr",
     "output_type": "stream",
     "text": [
      "\r"
     ]
    }
   ],
   "source": [
    "def run_multi_stock_backtest(tickers,  period=\"60d\"):\n",
    "    results = []\n",
    "\n",
    "    for ticker in tickers:\n",
    "        time.sleep(2.3)\n",
    "        print(f\"Running backtest for {ticker}...\")\n",
    "        try:\n",
    "            df = get_stock_data(ticker, interval=\"1d\", start=\"2023-02-01\", end=\"2025-03-20\")\n",
    "\n",
    "            if df.empty:\n",
    "                continue\n",
    "\n",
    "            bt = Backtest(df, RsiWmaBollingerStrategy, cash=10_000, commission=0.002)     \n",
    "            stats = bt.run()\n",
    "\n",
    "            results.append({\n",
    "                \"Ticker\": ticker,\n",
    "                \"Return [%]\": stats['Return [%]'],\n",
    "                \"Win Rate [%]\": stats['Win Rate [%]'],\n",
    "                \"Sharpe Ratio\": stats.get('Sharpe Ratio', None),\n",
    "                \"Trades\": stats['# Trades'],\n",
    "                \"Avg Trade Duration\": stats['Avg. Trade Duration'],\n",
    "                \"Exposure Time [%]\": stats['Exposure Time [%]'],\n",
    "            })\n",
    "\n",
    "        except Exception as e:\n",
    "            print(f\"Error with {ticker}: {e}\")\n",
    "\n",
    "    df_results = pd.DataFrame(results)\n",
    "    #df_results.sort_values(by=\"Return [%]\", ascending=False, inplace=True)\n",
    "    return df_results\n",
    "\n",
    "tickers = [\"AAPL\", \"MSFT\", \"GOOGL\", \"AMZN\", \"TSLA\", \"NFLX\", \"META\", \"NVDA\", \"AMD\", \"INTC\"]\n",
    "results = run_multi_stock_backtest(tickers,  period=\"60d\")\n",
    "print(results)\n"
   ]
  },
  {
   "cell_type": "markdown",
   "metadata": {},
   "source": [
    "## 3. Integrating a black-box indicator (e.g., ML model)\n",
    "Now we will add a black-box function which can be an ML model which can provide BUY or SELL signal. We will pass the dataframe containing the features and function can use this to predict the position. This then can be used in `next` function."
   ]
  },
  {
   "cell_type": "code",
   "execution_count": 19,
   "metadata": {},
   "outputs": [
    {
     "name": "stderr",
     "output_type": "stream",
     "text": [
      "Backtest.run:   0%|          | 0/533 [00:00<?, ?it/s]/Users/ikespand/anaconda3/envs/py311/lib/python3.11/site-packages/backtesting/backtesting.py:955: UserWarning: time=15: Broker canceled the relative-sized order due to insufficient margin.\n",
      "  warnings.warn(\n",
      "/Users/ikespand/anaconda3/envs/py311/lib/python3.11/site-packages/backtesting/backtesting.py:955: UserWarning: time=16: Broker canceled the relative-sized order due to insufficient margin.\n",
      "  warnings.warn(\n",
      "/Users/ikespand/anaconda3/envs/py311/lib/python3.11/site-packages/backtesting/backtesting.py:955: UserWarning: time=17: Broker canceled the relative-sized order due to insufficient margin.\n",
      "  warnings.warn(\n",
      "/Users/ikespand/anaconda3/envs/py311/lib/python3.11/site-packages/backtesting/backtesting.py:955: UserWarning: time=18: Broker canceled the relative-sized order due to insufficient margin.\n",
      "  warnings.warn(\n",
      "/Users/ikespand/anaconda3/envs/py311/lib/python3.11/site-packages/backtesting/backtesting.py:955: UserWarning: time=20: Broker canceled the relative-sized order due to insufficient margin.\n",
      "  warnings.warn(\n",
      "/Users/ikespand/anaconda3/envs/py311/lib/python3.11/site-packages/backtesting/backtesting.py:955: UserWarning: time=26: Broker canceled the relative-sized order due to insufficient margin.\n",
      "  warnings.warn(\n",
      "/Users/ikespand/anaconda3/envs/py311/lib/python3.11/site-packages/backtesting/backtesting.py:955: UserWarning: time=27: Broker canceled the relative-sized order due to insufficient margin.\n",
      "  warnings.warn(\n",
      "/Users/ikespand/anaconda3/envs/py311/lib/python3.11/site-packages/backtesting/backtesting.py:955: UserWarning: time=28: Broker canceled the relative-sized order due to insufficient margin.\n",
      "  warnings.warn(\n",
      "/Users/ikespand/anaconda3/envs/py311/lib/python3.11/site-packages/backtesting/backtesting.py:955: UserWarning: time=36: Broker canceled the relative-sized order due to insufficient margin.\n",
      "  warnings.warn(\n",
      "/Users/ikespand/anaconda3/envs/py311/lib/python3.11/site-packages/backtesting/backtesting.py:955: UserWarning: time=49: Broker canceled the relative-sized order due to insufficient margin.\n",
      "  warnings.warn(\n",
      "/Users/ikespand/anaconda3/envs/py311/lib/python3.11/site-packages/backtesting/backtesting.py:955: UserWarning: time=50: Broker canceled the relative-sized order due to insufficient margin.\n",
      "  warnings.warn(\n",
      "/Users/ikespand/anaconda3/envs/py311/lib/python3.11/site-packages/backtesting/backtesting.py:955: UserWarning: time=51: Broker canceled the relative-sized order due to insufficient margin.\n",
      "  warnings.warn(\n",
      "/Users/ikespand/anaconda3/envs/py311/lib/python3.11/site-packages/backtesting/backtesting.py:955: UserWarning: time=54: Broker canceled the relative-sized order due to insufficient margin.\n",
      "  warnings.warn(\n",
      "/Users/ikespand/anaconda3/envs/py311/lib/python3.11/site-packages/backtesting/backtesting.py:955: UserWarning: time=55: Broker canceled the relative-sized order due to insufficient margin.\n",
      "  warnings.warn(\n",
      "/Users/ikespand/anaconda3/envs/py311/lib/python3.11/site-packages/backtesting/backtesting.py:955: UserWarning: time=56: Broker canceled the relative-sized order due to insufficient margin.\n",
      "  warnings.warn(\n",
      "/Users/ikespand/anaconda3/envs/py311/lib/python3.11/site-packages/backtesting/backtesting.py:955: UserWarning: time=65: Broker canceled the relative-sized order due to insufficient margin.\n",
      "  warnings.warn(\n",
      "/Users/ikespand/anaconda3/envs/py311/lib/python3.11/site-packages/backtesting/backtesting.py:955: UserWarning: time=70: Broker canceled the relative-sized order due to insufficient margin.\n",
      "  warnings.warn(\n",
      "/Users/ikespand/anaconda3/envs/py311/lib/python3.11/site-packages/backtesting/backtesting.py:955: UserWarning: time=73: Broker canceled the relative-sized order due to insufficient margin.\n",
      "  warnings.warn(\n",
      "/Users/ikespand/anaconda3/envs/py311/lib/python3.11/site-packages/backtesting/backtesting.py:955: UserWarning: time=89: Broker canceled the relative-sized order due to insufficient margin.\n",
      "  warnings.warn(\n",
      "/Users/ikespand/anaconda3/envs/py311/lib/python3.11/site-packages/backtesting/backtesting.py:955: UserWarning: time=90: Broker canceled the relative-sized order due to insufficient margin.\n",
      "  warnings.warn(\n",
      "/Users/ikespand/anaconda3/envs/py311/lib/python3.11/site-packages/backtesting/backtesting.py:955: UserWarning: time=91: Broker canceled the relative-sized order due to insufficient margin.\n",
      "  warnings.warn(\n",
      "/Users/ikespand/anaconda3/envs/py311/lib/python3.11/site-packages/backtesting/backtesting.py:955: UserWarning: time=98: Broker canceled the relative-sized order due to insufficient margin.\n",
      "  warnings.warn(\n",
      "/Users/ikespand/anaconda3/envs/py311/lib/python3.11/site-packages/backtesting/backtesting.py:955: UserWarning: time=99: Broker canceled the relative-sized order due to insufficient margin.\n",
      "  warnings.warn(\n",
      "/Users/ikespand/anaconda3/envs/py311/lib/python3.11/site-packages/backtesting/backtesting.py:955: UserWarning: time=100: Broker canceled the relative-sized order due to insufficient margin.\n",
      "  warnings.warn(\n",
      "/Users/ikespand/anaconda3/envs/py311/lib/python3.11/site-packages/backtesting/backtesting.py:955: UserWarning: time=102: Broker canceled the relative-sized order due to insufficient margin.\n",
      "  warnings.warn(\n",
      "/Users/ikespand/anaconda3/envs/py311/lib/python3.11/site-packages/backtesting/backtesting.py:955: UserWarning: time=108: Broker canceled the relative-sized order due to insufficient margin.\n",
      "  warnings.warn(\n",
      "/Users/ikespand/anaconda3/envs/py311/lib/python3.11/site-packages/backtesting/backtesting.py:955: UserWarning: time=110: Broker canceled the relative-sized order due to insufficient margin.\n",
      "  warnings.warn(\n",
      "/Users/ikespand/anaconda3/envs/py311/lib/python3.11/site-packages/backtesting/backtesting.py:955: UserWarning: time=111: Broker canceled the relative-sized order due to insufficient margin.\n",
      "  warnings.warn(\n",
      "/Users/ikespand/anaconda3/envs/py311/lib/python3.11/site-packages/backtesting/backtesting.py:955: UserWarning: time=119: Broker canceled the relative-sized order due to insufficient margin.\n",
      "  warnings.warn(\n",
      "/Users/ikespand/anaconda3/envs/py311/lib/python3.11/site-packages/backtesting/backtesting.py:955: UserWarning: time=123: Broker canceled the relative-sized order due to insufficient margin.\n",
      "  warnings.warn(\n",
      "/Users/ikespand/anaconda3/envs/py311/lib/python3.11/site-packages/backtesting/backtesting.py:955: UserWarning: time=124: Broker canceled the relative-sized order due to insufficient margin.\n",
      "  warnings.warn(\n",
      "/Users/ikespand/anaconda3/envs/py311/lib/python3.11/site-packages/backtesting/backtesting.py:955: UserWarning: time=125: Broker canceled the relative-sized order due to insufficient margin.\n",
      "  warnings.warn(\n",
      "/Users/ikespand/anaconda3/envs/py311/lib/python3.11/site-packages/backtesting/backtesting.py:955: UserWarning: time=126: Broker canceled the relative-sized order due to insufficient margin.\n",
      "  warnings.warn(\n",
      "/Users/ikespand/anaconda3/envs/py311/lib/python3.11/site-packages/backtesting/backtesting.py:955: UserWarning: time=127: Broker canceled the relative-sized order due to insufficient margin.\n",
      "  warnings.warn(\n",
      "/Users/ikespand/anaconda3/envs/py311/lib/python3.11/site-packages/backtesting/backtesting.py:955: UserWarning: time=128: Broker canceled the relative-sized order due to insufficient margin.\n",
      "  warnings.warn(\n",
      "/Users/ikespand/anaconda3/envs/py311/lib/python3.11/site-packages/backtesting/backtesting.py:955: UserWarning: time=131: Broker canceled the relative-sized order due to insufficient margin.\n",
      "  warnings.warn(\n",
      "/Users/ikespand/anaconda3/envs/py311/lib/python3.11/site-packages/backtesting/backtesting.py:955: UserWarning: time=133: Broker canceled the relative-sized order due to insufficient margin.\n",
      "  warnings.warn(\n",
      "/Users/ikespand/anaconda3/envs/py311/lib/python3.11/site-packages/backtesting/backtesting.py:955: UserWarning: time=134: Broker canceled the relative-sized order due to insufficient margin.\n",
      "  warnings.warn(\n",
      "/Users/ikespand/anaconda3/envs/py311/lib/python3.11/site-packages/backtesting/backtesting.py:955: UserWarning: time=135: Broker canceled the relative-sized order due to insufficient margin.\n",
      "  warnings.warn(\n",
      "/Users/ikespand/anaconda3/envs/py311/lib/python3.11/site-packages/backtesting/backtesting.py:955: UserWarning: time=136: Broker canceled the relative-sized order due to insufficient margin.\n",
      "  warnings.warn(\n",
      "/Users/ikespand/anaconda3/envs/py311/lib/python3.11/site-packages/backtesting/backtesting.py:955: UserWarning: time=138: Broker canceled the relative-sized order due to insufficient margin.\n",
      "  warnings.warn(\n",
      "Backtest.run:  29%|██▉       | 156/533 [00:00<00:00, 1557.12it/s]/Users/ikespand/anaconda3/envs/py311/lib/python3.11/site-packages/backtesting/backtesting.py:955: UserWarning: time=157: Broker canceled the relative-sized order due to insufficient margin.\n",
      "  warnings.warn(\n",
      "/Users/ikespand/anaconda3/envs/py311/lib/python3.11/site-packages/backtesting/backtesting.py:955: UserWarning: time=161: Broker canceled the relative-sized order due to insufficient margin.\n",
      "  warnings.warn(\n",
      "/Users/ikespand/anaconda3/envs/py311/lib/python3.11/site-packages/backtesting/backtesting.py:955: UserWarning: time=162: Broker canceled the relative-sized order due to insufficient margin.\n",
      "  warnings.warn(\n",
      "/Users/ikespand/anaconda3/envs/py311/lib/python3.11/site-packages/backtesting/backtesting.py:955: UserWarning: time=165: Broker canceled the relative-sized order due to insufficient margin.\n",
      "  warnings.warn(\n",
      "/Users/ikespand/anaconda3/envs/py311/lib/python3.11/site-packages/backtesting/backtesting.py:955: UserWarning: time=166: Broker canceled the relative-sized order due to insufficient margin.\n",
      "  warnings.warn(\n",
      "/Users/ikespand/anaconda3/envs/py311/lib/python3.11/site-packages/backtesting/backtesting.py:955: UserWarning: time=167: Broker canceled the relative-sized order due to insufficient margin.\n",
      "  warnings.warn(\n",
      "/Users/ikespand/anaconda3/envs/py311/lib/python3.11/site-packages/backtesting/backtesting.py:955: UserWarning: time=179: Broker canceled the relative-sized order due to insufficient margin.\n",
      "  warnings.warn(\n",
      "/Users/ikespand/anaconda3/envs/py311/lib/python3.11/site-packages/backtesting/backtesting.py:955: UserWarning: time=180: Broker canceled the relative-sized order due to insufficient margin.\n",
      "  warnings.warn(\n",
      "/Users/ikespand/anaconda3/envs/py311/lib/python3.11/site-packages/backtesting/backtesting.py:955: UserWarning: time=182: Broker canceled the relative-sized order due to insufficient margin.\n",
      "  warnings.warn(\n",
      "/Users/ikespand/anaconda3/envs/py311/lib/python3.11/site-packages/backtesting/backtesting.py:955: UserWarning: time=183: Broker canceled the relative-sized order due to insufficient margin.\n",
      "  warnings.warn(\n",
      "/Users/ikespand/anaconda3/envs/py311/lib/python3.11/site-packages/backtesting/backtesting.py:955: UserWarning: time=213: Broker canceled the relative-sized order due to insufficient margin.\n",
      "  warnings.warn(\n",
      "/Users/ikespand/anaconda3/envs/py311/lib/python3.11/site-packages/backtesting/backtesting.py:955: UserWarning: time=214: Broker canceled the relative-sized order due to insufficient margin.\n",
      "  warnings.warn(\n",
      "/Users/ikespand/anaconda3/envs/py311/lib/python3.11/site-packages/backtesting/backtesting.py:955: UserWarning: time=215: Broker canceled the relative-sized order due to insufficient margin.\n",
      "  warnings.warn(\n",
      "/Users/ikespand/anaconda3/envs/py311/lib/python3.11/site-packages/backtesting/backtesting.py:955: UserWarning: time=217: Broker canceled the relative-sized order due to insufficient margin.\n",
      "  warnings.warn(\n",
      "/Users/ikespand/anaconda3/envs/py311/lib/python3.11/site-packages/backtesting/backtesting.py:955: UserWarning: time=220: Broker canceled the relative-sized order due to insufficient margin.\n",
      "  warnings.warn(\n",
      "/Users/ikespand/anaconda3/envs/py311/lib/python3.11/site-packages/backtesting/backtesting.py:955: UserWarning: time=221: Broker canceled the relative-sized order due to insufficient margin.\n",
      "  warnings.warn(\n",
      "/Users/ikespand/anaconda3/envs/py311/lib/python3.11/site-packages/backtesting/backtesting.py:955: UserWarning: time=222: Broker canceled the relative-sized order due to insufficient margin.\n",
      "  warnings.warn(\n",
      "/Users/ikespand/anaconda3/envs/py311/lib/python3.11/site-packages/backtesting/backtesting.py:955: UserWarning: time=223: Broker canceled the relative-sized order due to insufficient margin.\n",
      "  warnings.warn(\n",
      "/Users/ikespand/anaconda3/envs/py311/lib/python3.11/site-packages/backtesting/backtesting.py:955: UserWarning: time=231: Broker canceled the relative-sized order due to insufficient margin.\n",
      "  warnings.warn(\n",
      "/Users/ikespand/anaconda3/envs/py311/lib/python3.11/site-packages/backtesting/backtesting.py:955: UserWarning: time=232: Broker canceled the relative-sized order due to insufficient margin.\n",
      "  warnings.warn(\n",
      "/Users/ikespand/anaconda3/envs/py311/lib/python3.11/site-packages/backtesting/backtesting.py:955: UserWarning: time=233: Broker canceled the relative-sized order due to insufficient margin.\n",
      "  warnings.warn(\n",
      "/Users/ikespand/anaconda3/envs/py311/lib/python3.11/site-packages/backtesting/backtesting.py:955: UserWarning: time=234: Broker canceled the relative-sized order due to insufficient margin.\n",
      "  warnings.warn(\n",
      "/Users/ikespand/anaconda3/envs/py311/lib/python3.11/site-packages/backtesting/backtesting.py:955: UserWarning: time=252: Broker canceled the relative-sized order due to insufficient margin.\n",
      "  warnings.warn(\n",
      "/Users/ikespand/anaconda3/envs/py311/lib/python3.11/site-packages/backtesting/backtesting.py:955: UserWarning: time=254: Broker canceled the relative-sized order due to insufficient margin.\n",
      "  warnings.warn(\n",
      "/Users/ikespand/anaconda3/envs/py311/lib/python3.11/site-packages/backtesting/backtesting.py:955: UserWarning: time=261: Broker canceled the relative-sized order due to insufficient margin.\n",
      "  warnings.warn(\n",
      "/Users/ikespand/anaconda3/envs/py311/lib/python3.11/site-packages/backtesting/backtesting.py:955: UserWarning: time=262: Broker canceled the relative-sized order due to insufficient margin.\n",
      "  warnings.warn(\n",
      "/Users/ikespand/anaconda3/envs/py311/lib/python3.11/site-packages/backtesting/backtesting.py:955: UserWarning: time=263: Broker canceled the relative-sized order due to insufficient margin.\n",
      "  warnings.warn(\n",
      "/Users/ikespand/anaconda3/envs/py311/lib/python3.11/site-packages/backtesting/backtesting.py:955: UserWarning: time=265: Broker canceled the relative-sized order due to insufficient margin.\n",
      "  warnings.warn(\n",
      "/Users/ikespand/anaconda3/envs/py311/lib/python3.11/site-packages/backtesting/backtesting.py:955: UserWarning: time=270: Broker canceled the relative-sized order due to insufficient margin.\n",
      "  warnings.warn(\n",
      "/Users/ikespand/anaconda3/envs/py311/lib/python3.11/site-packages/backtesting/backtesting.py:955: UserWarning: time=274: Broker canceled the relative-sized order due to insufficient margin.\n",
      "  warnings.warn(\n",
      "/Users/ikespand/anaconda3/envs/py311/lib/python3.11/site-packages/backtesting/backtesting.py:955: UserWarning: time=275: Broker canceled the relative-sized order due to insufficient margin.\n",
      "  warnings.warn(\n",
      "/Users/ikespand/anaconda3/envs/py311/lib/python3.11/site-packages/backtesting/backtesting.py:955: UserWarning: time=276: Broker canceled the relative-sized order due to insufficient margin.\n",
      "  warnings.warn(\n",
      "/Users/ikespand/anaconda3/envs/py311/lib/python3.11/site-packages/backtesting/backtesting.py:955: UserWarning: time=277: Broker canceled the relative-sized order due to insufficient margin.\n",
      "  warnings.warn(\n",
      "/Users/ikespand/anaconda3/envs/py311/lib/python3.11/site-packages/backtesting/backtesting.py:955: UserWarning: time=290: Broker canceled the relative-sized order due to insufficient margin.\n",
      "  warnings.warn(\n",
      "/Users/ikespand/anaconda3/envs/py311/lib/python3.11/site-packages/backtesting/backtesting.py:955: UserWarning: time=291: Broker canceled the relative-sized order due to insufficient margin.\n",
      "  warnings.warn(\n",
      "/Users/ikespand/anaconda3/envs/py311/lib/python3.11/site-packages/backtesting/backtesting.py:955: UserWarning: time=293: Broker canceled the relative-sized order due to insufficient margin.\n",
      "  warnings.warn(\n",
      "/Users/ikespand/anaconda3/envs/py311/lib/python3.11/site-packages/backtesting/backtesting.py:955: UserWarning: time=294: Broker canceled the relative-sized order due to insufficient margin.\n",
      "  warnings.warn(\n",
      "/Users/ikespand/anaconda3/envs/py311/lib/python3.11/site-packages/backtesting/backtesting.py:955: UserWarning: time=295: Broker canceled the relative-sized order due to insufficient margin.\n",
      "  warnings.warn(\n",
      "/Users/ikespand/anaconda3/envs/py311/lib/python3.11/site-packages/backtesting/backtesting.py:955: UserWarning: time=301: Broker canceled the relative-sized order due to insufficient margin.\n",
      "  warnings.warn(\n",
      "/Users/ikespand/anaconda3/envs/py311/lib/python3.11/site-packages/backtesting/backtesting.py:955: UserWarning: time=302: Broker canceled the relative-sized order due to insufficient margin.\n",
      "  warnings.warn(\n",
      "/Users/ikespand/anaconda3/envs/py311/lib/python3.11/site-packages/backtesting/backtesting.py:955: UserWarning: time=307: Broker canceled the relative-sized order due to insufficient margin.\n",
      "  warnings.warn(\n",
      "/Users/ikespand/anaconda3/envs/py311/lib/python3.11/site-packages/backtesting/backtesting.py:955: UserWarning: time=308: Broker canceled the relative-sized order due to insufficient margin.\n",
      "  warnings.warn(\n",
      "Backtest.run:  59%|█████▊    | 312/533 [00:00<00:00, 1411.17it/s]/Users/ikespand/anaconda3/envs/py311/lib/python3.11/site-packages/backtesting/backtesting.py:955: UserWarning: time=314: Broker canceled the relative-sized order due to insufficient margin.\n",
      "  warnings.warn(\n",
      "/Users/ikespand/anaconda3/envs/py311/lib/python3.11/site-packages/backtesting/backtesting.py:955: UserWarning: time=315: Broker canceled the relative-sized order due to insufficient margin.\n",
      "  warnings.warn(\n",
      "/Users/ikespand/anaconda3/envs/py311/lib/python3.11/site-packages/backtesting/backtesting.py:955: UserWarning: time=336: Broker canceled the relative-sized order due to insufficient margin.\n",
      "  warnings.warn(\n",
      "/Users/ikespand/anaconda3/envs/py311/lib/python3.11/site-packages/backtesting/backtesting.py:955: UserWarning: time=337: Broker canceled the relative-sized order due to insufficient margin.\n",
      "  warnings.warn(\n",
      "/Users/ikespand/anaconda3/envs/py311/lib/python3.11/site-packages/backtesting/backtesting.py:955: UserWarning: time=354: Broker canceled the relative-sized order due to insufficient margin.\n",
      "  warnings.warn(\n",
      "/Users/ikespand/anaconda3/envs/py311/lib/python3.11/site-packages/backtesting/backtesting.py:955: UserWarning: time=362: Broker canceled the relative-sized order due to insufficient margin.\n",
      "  warnings.warn(\n",
      "/Users/ikespand/anaconda3/envs/py311/lib/python3.11/site-packages/backtesting/backtesting.py:955: UserWarning: time=363: Broker canceled the relative-sized order due to insufficient margin.\n",
      "  warnings.warn(\n",
      "/Users/ikespand/anaconda3/envs/py311/lib/python3.11/site-packages/backtesting/backtesting.py:955: UserWarning: time=364: Broker canceled the relative-sized order due to insufficient margin.\n",
      "  warnings.warn(\n",
      "/Users/ikespand/anaconda3/envs/py311/lib/python3.11/site-packages/backtesting/backtesting.py:955: UserWarning: time=365: Broker canceled the relative-sized order due to insufficient margin.\n",
      "  warnings.warn(\n",
      "/Users/ikespand/anaconda3/envs/py311/lib/python3.11/site-packages/backtesting/backtesting.py:955: UserWarning: time=368: Broker canceled the relative-sized order due to insufficient margin.\n",
      "  warnings.warn(\n",
      "/Users/ikespand/anaconda3/envs/py311/lib/python3.11/site-packages/backtesting/backtesting.py:955: UserWarning: time=369: Broker canceled the relative-sized order due to insufficient margin.\n",
      "  warnings.warn(\n",
      "/Users/ikespand/anaconda3/envs/py311/lib/python3.11/site-packages/backtesting/backtesting.py:955: UserWarning: time=373: Broker canceled the relative-sized order due to insufficient margin.\n",
      "  warnings.warn(\n",
      "/Users/ikespand/anaconda3/envs/py311/lib/python3.11/site-packages/backtesting/backtesting.py:955: UserWarning: time=374: Broker canceled the relative-sized order due to insufficient margin.\n",
      "  warnings.warn(\n",
      "/Users/ikespand/anaconda3/envs/py311/lib/python3.11/site-packages/backtesting/backtesting.py:955: UserWarning: time=375: Broker canceled the relative-sized order due to insufficient margin.\n",
      "  warnings.warn(\n",
      "/Users/ikespand/anaconda3/envs/py311/lib/python3.11/site-packages/backtesting/backtesting.py:955: UserWarning: time=376: Broker canceled the relative-sized order due to insufficient margin.\n",
      "  warnings.warn(\n",
      "/Users/ikespand/anaconda3/envs/py311/lib/python3.11/site-packages/backtesting/backtesting.py:955: UserWarning: time=380: Broker canceled the relative-sized order due to insufficient margin.\n",
      "  warnings.warn(\n",
      "/Users/ikespand/anaconda3/envs/py311/lib/python3.11/site-packages/backtesting/backtesting.py:955: UserWarning: time=381: Broker canceled the relative-sized order due to insufficient margin.\n",
      "  warnings.warn(\n",
      "/Users/ikespand/anaconda3/envs/py311/lib/python3.11/site-packages/backtesting/backtesting.py:955: UserWarning: time=382: Broker canceled the relative-sized order due to insufficient margin.\n",
      "  warnings.warn(\n",
      "/Users/ikespand/anaconda3/envs/py311/lib/python3.11/site-packages/backtesting/backtesting.py:955: UserWarning: time=393: Broker canceled the relative-sized order due to insufficient margin.\n",
      "  warnings.warn(\n",
      "/Users/ikespand/anaconda3/envs/py311/lib/python3.11/site-packages/backtesting/backtesting.py:955: UserWarning: time=394: Broker canceled the relative-sized order due to insufficient margin.\n",
      "  warnings.warn(\n",
      "/Users/ikespand/anaconda3/envs/py311/lib/python3.11/site-packages/backtesting/backtesting.py:955: UserWarning: time=395: Broker canceled the relative-sized order due to insufficient margin.\n",
      "  warnings.warn(\n",
      "/Users/ikespand/anaconda3/envs/py311/lib/python3.11/site-packages/backtesting/backtesting.py:955: UserWarning: time=396: Broker canceled the relative-sized order due to insufficient margin.\n",
      "  warnings.warn(\n",
      "/Users/ikespand/anaconda3/envs/py311/lib/python3.11/site-packages/backtesting/backtesting.py:955: UserWarning: time=397: Broker canceled the relative-sized order due to insufficient margin.\n",
      "  warnings.warn(\n",
      "/Users/ikespand/anaconda3/envs/py311/lib/python3.11/site-packages/backtesting/backtesting.py:955: UserWarning: time=400: Broker canceled the relative-sized order due to insufficient margin.\n",
      "  warnings.warn(\n",
      "/Users/ikespand/anaconda3/envs/py311/lib/python3.11/site-packages/backtesting/backtesting.py:955: UserWarning: time=402: Broker canceled the relative-sized order due to insufficient margin.\n",
      "  warnings.warn(\n",
      "/Users/ikespand/anaconda3/envs/py311/lib/python3.11/site-packages/backtesting/backtesting.py:955: UserWarning: time=403: Broker canceled the relative-sized order due to insufficient margin.\n",
      "  warnings.warn(\n",
      "/Users/ikespand/anaconda3/envs/py311/lib/python3.11/site-packages/backtesting/backtesting.py:955: UserWarning: time=414: Broker canceled the relative-sized order due to insufficient margin.\n",
      "  warnings.warn(\n",
      "/Users/ikespand/anaconda3/envs/py311/lib/python3.11/site-packages/backtesting/backtesting.py:955: UserWarning: time=415: Broker canceled the relative-sized order due to insufficient margin.\n",
      "  warnings.warn(\n",
      "/Users/ikespand/anaconda3/envs/py311/lib/python3.11/site-packages/backtesting/backtesting.py:955: UserWarning: time=416: Broker canceled the relative-sized order due to insufficient margin.\n",
      "  warnings.warn(\n",
      "/Users/ikespand/anaconda3/envs/py311/lib/python3.11/site-packages/backtesting/backtesting.py:955: UserWarning: time=417: Broker canceled the relative-sized order due to insufficient margin.\n",
      "  warnings.warn(\n",
      "/Users/ikespand/anaconda3/envs/py311/lib/python3.11/site-packages/backtesting/backtesting.py:955: UserWarning: time=420: Broker canceled the relative-sized order due to insufficient margin.\n",
      "  warnings.warn(\n",
      "/Users/ikespand/anaconda3/envs/py311/lib/python3.11/site-packages/backtesting/backtesting.py:955: UserWarning: time=421: Broker canceled the relative-sized order due to insufficient margin.\n",
      "  warnings.warn(\n",
      "/Users/ikespand/anaconda3/envs/py311/lib/python3.11/site-packages/backtesting/backtesting.py:955: UserWarning: time=423: Broker canceled the relative-sized order due to insufficient margin.\n",
      "  warnings.warn(\n",
      "/Users/ikespand/anaconda3/envs/py311/lib/python3.11/site-packages/backtesting/backtesting.py:955: UserWarning: time=424: Broker canceled the relative-sized order due to insufficient margin.\n",
      "  warnings.warn(\n",
      "/Users/ikespand/anaconda3/envs/py311/lib/python3.11/site-packages/backtesting/backtesting.py:955: UserWarning: time=426: Broker canceled the relative-sized order due to insufficient margin.\n",
      "  warnings.warn(\n",
      "/Users/ikespand/anaconda3/envs/py311/lib/python3.11/site-packages/backtesting/backtesting.py:955: UserWarning: time=432: Broker canceled the relative-sized order due to insufficient margin.\n",
      "  warnings.warn(\n",
      "/Users/ikespand/anaconda3/envs/py311/lib/python3.11/site-packages/backtesting/backtesting.py:955: UserWarning: time=438: Broker canceled the relative-sized order due to insufficient margin.\n",
      "  warnings.warn(\n",
      "/Users/ikespand/anaconda3/envs/py311/lib/python3.11/site-packages/backtesting/backtesting.py:955: UserWarning: time=442: Broker canceled the relative-sized order due to insufficient margin.\n",
      "  warnings.warn(\n",
      "/Users/ikespand/anaconda3/envs/py311/lib/python3.11/site-packages/backtesting/backtesting.py:955: UserWarning: time=443: Broker canceled the relative-sized order due to insufficient margin.\n",
      "  warnings.warn(\n",
      "/Users/ikespand/anaconda3/envs/py311/lib/python3.11/site-packages/backtesting/backtesting.py:955: UserWarning: time=444: Broker canceled the relative-sized order due to insufficient margin.\n",
      "  warnings.warn(\n",
      "/Users/ikespand/anaconda3/envs/py311/lib/python3.11/site-packages/backtesting/backtesting.py:955: UserWarning: time=453: Broker canceled the relative-sized order due to insufficient margin.\n",
      "  warnings.warn(\n",
      "/Users/ikespand/anaconda3/envs/py311/lib/python3.11/site-packages/backtesting/backtesting.py:955: UserWarning: time=454: Broker canceled the relative-sized order due to insufficient margin.\n",
      "  warnings.warn(\n",
      "/Users/ikespand/anaconda3/envs/py311/lib/python3.11/site-packages/backtesting/backtesting.py:955: UserWarning: time=455: Broker canceled the relative-sized order due to insufficient margin.\n",
      "  warnings.warn(\n",
      "Backtest.run:  85%|████████▌ | 455/533 [00:00<00:00, 1393.05it/s]/Users/ikespand/anaconda3/envs/py311/lib/python3.11/site-packages/backtesting/backtesting.py:955: UserWarning: time=456: Broker canceled the relative-sized order due to insufficient margin.\n",
      "  warnings.warn(\n",
      "/Users/ikespand/anaconda3/envs/py311/lib/python3.11/site-packages/backtesting/backtesting.py:955: UserWarning: time=476: Broker canceled the relative-sized order due to insufficient margin.\n",
      "  warnings.warn(\n",
      "/Users/ikespand/anaconda3/envs/py311/lib/python3.11/site-packages/backtesting/backtesting.py:955: UserWarning: time=477: Broker canceled the relative-sized order due to insufficient margin.\n",
      "  warnings.warn(\n",
      "/Users/ikespand/anaconda3/envs/py311/lib/python3.11/site-packages/backtesting/backtesting.py:955: UserWarning: time=483: Broker canceled the relative-sized order due to insufficient margin.\n",
      "  warnings.warn(\n",
      "/Users/ikespand/anaconda3/envs/py311/lib/python3.11/site-packages/backtesting/backtesting.py:955: UserWarning: time=484: Broker canceled the relative-sized order due to insufficient margin.\n",
      "  warnings.warn(\n",
      "/Users/ikespand/anaconda3/envs/py311/lib/python3.11/site-packages/backtesting/backtesting.py:955: UserWarning: time=489: Broker canceled the relative-sized order due to insufficient margin.\n",
      "  warnings.warn(\n",
      "/Users/ikespand/anaconda3/envs/py311/lib/python3.11/site-packages/backtesting/backtesting.py:955: UserWarning: time=490: Broker canceled the relative-sized order due to insufficient margin.\n",
      "  warnings.warn(\n",
      "/Users/ikespand/anaconda3/envs/py311/lib/python3.11/site-packages/backtesting/backtesting.py:955: UserWarning: time=502: Broker canceled the relative-sized order due to insufficient margin.\n",
      "  warnings.warn(\n",
      "/Users/ikespand/anaconda3/envs/py311/lib/python3.11/site-packages/backtesting/backtesting.py:955: UserWarning: time=503: Broker canceled the relative-sized order due to insufficient margin.\n",
      "  warnings.warn(\n",
      "/Users/ikespand/anaconda3/envs/py311/lib/python3.11/site-packages/backtesting/backtesting.py:955: UserWarning: time=504: Broker canceled the relative-sized order due to insufficient margin.\n",
      "  warnings.warn(\n",
      "/Users/ikespand/anaconda3/envs/py311/lib/python3.11/site-packages/backtesting/backtesting.py:955: UserWarning: time=505: Broker canceled the relative-sized order due to insufficient margin.\n",
      "  warnings.warn(\n",
      "/Users/ikespand/anaconda3/envs/py311/lib/python3.11/site-packages/backtesting/backtesting.py:955: UserWarning: time=507: Broker canceled the relative-sized order due to insufficient margin.\n",
      "  warnings.warn(\n",
      "/Users/ikespand/anaconda3/envs/py311/lib/python3.11/site-packages/backtesting/backtesting.py:955: UserWarning: time=508: Broker canceled the relative-sized order due to insufficient margin.\n",
      "  warnings.warn(\n",
      "/Users/ikespand/anaconda3/envs/py311/lib/python3.11/site-packages/backtesting/backtesting.py:955: UserWarning: time=510: Broker canceled the relative-sized order due to insufficient margin.\n",
      "  warnings.warn(\n",
      "/Users/ikespand/anaconda3/envs/py311/lib/python3.11/site-packages/backtesting/backtesting.py:955: UserWarning: time=512: Broker canceled the relative-sized order due to insufficient margin.\n",
      "  warnings.warn(\n",
      "/Users/ikespand/anaconda3/envs/py311/lib/python3.11/site-packages/backtesting/backtesting.py:955: UserWarning: time=513: Broker canceled the relative-sized order due to insufficient margin.\n",
      "  warnings.warn(\n",
      "/Users/ikespand/anaconda3/envs/py311/lib/python3.11/site-packages/backtesting/backtesting.py:955: UserWarning: time=519: Broker canceled the relative-sized order due to insufficient margin.\n",
      "  warnings.warn(\n",
      "/Users/ikespand/anaconda3/envs/py311/lib/python3.11/site-packages/backtesting/backtesting.py:955: UserWarning: time=521: Broker canceled the relative-sized order due to insufficient margin.\n",
      "  warnings.warn(\n",
      "/Users/ikespand/anaconda3/envs/py311/lib/python3.11/site-packages/backtesting/backtesting.py:955: UserWarning: time=523: Broker canceled the relative-sized order due to insufficient margin.\n",
      "  warnings.warn(\n",
      "/Users/ikespand/anaconda3/envs/py311/lib/python3.11/site-packages/backtesting/backtesting.py:955: UserWarning: time=525: Broker canceled the relative-sized order due to insufficient margin.\n",
      "  warnings.warn(\n",
      "/Users/ikespand/anaconda3/envs/py311/lib/python3.11/site-packages/backtesting/backtesting.py:955: UserWarning: time=528: Broker canceled the relative-sized order due to insufficient margin.\n",
      "  warnings.warn(\n",
      "/Users/ikespand/anaconda3/envs/py311/lib/python3.11/site-packages/backtesting/backtesting.py:955: UserWarning: time=529: Broker canceled the relative-sized order due to insufficient margin.\n",
      "  warnings.warn(\n",
      "/Users/ikespand/anaconda3/envs/py311/lib/python3.11/site-packages/backtesting/backtesting.py:955: UserWarning: time=530: Broker canceled the relative-sized order due to insufficient margin.\n",
      "  warnings.warn(\n",
      "                                                                 \r"
     ]
    },
    {
     "name": "stdout",
     "output_type": "stream",
     "text": [
      "Start                     2023-02-01 00:00:00\n",
      "End                       2025-03-19 00:00:00\n",
      "Duration                    777 days 00:00:00\n",
      "Exposure Time [%]                    67.79026\n",
      "Equity Final [$]                   7589.70385\n",
      "Equity Peak [$]                   11215.16409\n",
      "Commissions [$]                    2703.35984\n",
      "Return [%]                          -24.10296\n",
      "Buy & Hold Return [%]                56.27101\n",
      "Return (Ann.) [%]                   -12.20356\n",
      "Volatility (Ann.) [%]                16.00679\n",
      "CAGR [%]                             -8.55626\n",
      "Sharpe Ratio                          -0.7624\n",
      "Sortino Ratio                        -0.86535\n",
      "Calmar Ratio                         -0.36042\n",
      "Alpha [%]                           -54.51215\n",
      "Beta                                  0.54041\n",
      "Max. Drawdown [%]                   -33.85961\n",
      "Avg. Drawdown [%]                    -8.31362\n",
      "Max. Drawdown Duration      342 days 00:00:00\n",
      "Avg. Drawdown Duration       82 days 00:00:00\n",
      "# Trades                                   75\n",
      "Win Rate [%]                         29.33333\n",
      "Best Trade [%]                        5.93813\n",
      "Worst Trade [%]                      -5.12186\n",
      "Avg. Trade [%]                        0.05928\n",
      "Max. Trade Duration          37 days 00:00:00\n",
      "Avg. Trade Duration           7 days 00:00:00\n",
      "Profit Factor                         1.08439\n",
      "Expectancy [%]                        0.10518\n",
      "SQN                                   0.05833\n",
      "Kelly Criterion                      -0.01888\n",
      "_strategy                   MLTradingStrategy\n",
      "_equity_curve                             ...\n",
      "_trades                       Size  EntryB...\n",
      "dtype: object\n"
     ]
    }
   ],
   "source": [
    "def dummy_ml_model(df):\n",
    "    \"\"\"\n",
    "    Simulated ML model that predicts BUY signals. We don't consider SELL (short positions).\n",
    "    :param df: DataFrame of last `N` rows (OHLCV features).\n",
    "    :return: 1 if BUY signal, else 0.\n",
    "    \"\"\"\n",
    "    # Simulated logic: Buy if the last row closes lower than the first row in the window\n",
    "    if df.iloc[-1]['Close'] < df.iloc[0]['Close']:  \n",
    "        return 1  # BUY Signal\n",
    "    return 0  # No action\n",
    "\n",
    "class MLTradingStrategy(Strategy):\n",
    "    feature_window = 5 # window size for features \n",
    "    stop_loss_pct = 0.02 \n",
    "    take_profit_pct = 0.05 \n",
    "\n",
    "    def init(self):\n",
    "        pass\n",
    "\n",
    "    def next(self):\n",
    "        N = self.feature_window  \n",
    "        # Ensure enough data to generate features\n",
    "        if len(self.data.Close) < N:\n",
    "            return \n",
    "\n",
    "        # Extract last `N` rows into a DataFrame\n",
    "        df = pd.DataFrame({\n",
    "            \"Open\": self.data.Open[-N:],\n",
    "            \"High\": self.data.High[-N:],\n",
    "            \"Low\": self.data.Low[-N:],\n",
    "            \"Close\": self.data.Close[-N:],\n",
    "            \"Volume\": self.data.Volume[-N:],\n",
    "        })\n",
    "\n",
    "        # Pass last `N` rows to ML model\n",
    "        signal = dummy_ml_model(df)  \n",
    "\n",
    "        # ML suggests BUY signal\n",
    "        if signal == 1:  \n",
    "            price = self.data.Close[-1]\n",
    "            sl = price * (1 - self.stop_loss_pct)  \n",
    "            tp = price * (1 + self.take_profit_pct) \n",
    "            self.buy(sl=sl, tp=tp)  \n",
    "\n",
    "df = get_stock_data(\"MSFT\", interval=\"1d\", start=\"2023-02-01\", end=\"2025-03-20\")\n",
    "\n",
    "# Run Backtest\n",
    "bt = Backtest(df, MLTradingStrategy, cash=10000, commission=0.002)\n",
    "stats = bt.run()\n",
    "\n",
    "# Print Results\n",
    "print(stats)\n",
    "#bt.plot(filename=\"ml__strategy.html\")"
   ]
  },
  {
   "cell_type": "markdown",
   "metadata": {},
   "source": [
    "## 4. Integrating ESN model from `1_esn_le2e.ipynb`\n",
    "Here, our function will look for some threshold above which we can have BUY."
   ]
  },
  {
   "cell_type": "code",
   "execution_count": 21,
   "metadata": {},
   "outputs": [
    {
     "name": "stderr",
     "output_type": "stream",
     "text": [
      "Backtest.run:   0%|          | 0/533 [00:00<?, ?it/s]/Users/ikespand/anaconda3/envs/py311/lib/python3.11/site-packages/backtesting/backtesting.py:955: UserWarning: time=10: Broker canceled the relative-sized order due to insufficient margin.\n",
      "  warnings.warn(\n",
      "/Users/ikespand/anaconda3/envs/py311/lib/python3.11/site-packages/backtesting/backtesting.py:955: UserWarning: time=18: Broker canceled the relative-sized order due to insufficient margin.\n",
      "  warnings.warn(\n",
      "                                                                "
     ]
    },
    {
     "name": "stdout",
     "output_type": "stream",
     "text": [
      "Start                     2023-02-01 00:00:00\n",
      "End                       2025-03-19 00:00:00\n",
      "Duration                    777 days 00:00:00\n",
      "Exposure Time [%]                      8.2397\n",
      "Equity Final [$]                  10031.94359\n",
      "Equity Peak [$]                     10487.459\n",
      "Commissions [$]                     272.76286\n",
      "Return [%]                            0.31944\n",
      "Buy & Hold Return [%]                56.27101\n",
      "Return (Ann.) [%]                     0.15062\n",
      "Volatility (Ann.) [%]                 6.03431\n",
      "CAGR [%]                              0.10349\n",
      "Sharpe Ratio                          0.02496\n",
      "Sortino Ratio                         0.03706\n",
      "Calmar Ratio                          0.01509\n",
      "Alpha [%]                            -3.72485\n",
      "Beta                                  0.07187\n",
      "Max. Drawdown [%]                    -9.98271\n",
      "Avg. Drawdown [%]                    -5.26252\n",
      "Max. Drawdown Duration       52 days 00:00:00\n",
      "Avg. Drawdown Duration       31 days 00:00:00\n",
      "# Trades                                    7\n",
      "Win Rate [%]                         42.85714\n",
      "Best Trade [%]                        5.15906\n",
      "Worst Trade [%]                      -3.43326\n",
      "Avg. Trade [%]                        0.44791\n",
      "Max. Trade Duration          20 days 00:00:00\n",
      "Avg. Trade Duration           8 days 00:00:00\n",
      "Profit Factor                          1.3965\n",
      "Expectancy [%]                        0.50139\n",
      "SQN                                   0.33253\n",
      "Kelly Criterion                       0.11015\n",
      "_strategy                   MLTradingStrategy\n",
      "_equity_curve                             ...\n",
      "_trades                      Size  EntryBa...\n",
      "dtype: object\n"
     ]
    },
    {
     "name": "stderr",
     "output_type": "stream",
     "text": [
      "\r"
     ]
    }
   ],
   "source": [
    "from utils import StockPricePredictor\n",
    "\n",
    "predictor = StockPricePredictor(model_path=\"stock_esn_model_7.pkl\", \n",
    "                                scaler_path=\"scaler_esn_model_7.pkl\")\n",
    "\n",
    "def if_buy_signal_with_esn(df, threshold=0.02):\n",
    "    \"\"\"\n",
    "    Determines if a BUY signal should be generated based on the ESN model's prediction.\n",
    "    \n",
    "    Args:\n",
    "        df (DataFrame): The dataframe containing the latest stock data.\n",
    "        threshold (float): The minimum percentage increase required to trigger a BUY signal.\n",
    "    \n",
    "    Returns:\n",
    "        int: 1 if BUY signal is triggered, otherwise 0.\n",
    "    \"\"\"\n",
    "    predicted_close = predictor.predict(df)\n",
    "    last_close = df.iloc[-1]['Close']\n",
    "    \n",
    "    # Check if predicted close is at least (1 + threshold)% higher than last close\n",
    "    if predicted_close >= last_close * (1 + threshold):\n",
    "        return 1  # BUY Signal\n",
    "    \n",
    "    return 0  # No action\n",
    "\n",
    "\n",
    "class MLTradingStrategy(Strategy):\n",
    "    feature_window = 7 # window size for features \n",
    "    stop_loss_pct = 0.025 \n",
    "    take_profit_pct = 0.05 \n",
    "\n",
    "    def init(self):\n",
    "        pass\n",
    "\n",
    "    def next(self):\n",
    "        N = self.feature_window  \n",
    "        # Ensure enough data to generate features\n",
    "        if len(self.data.Close) < N:\n",
    "            return \n",
    "\n",
    "        # Extract last `N` rows into a DataFrame\n",
    "        df = pd.DataFrame({\n",
    "            \"Open\": self.data.Open[-N:],\n",
    "            \"High\": self.data.High[-N:],\n",
    "            \"Low\": self.data.Low[-N:],\n",
    "            \"Close\": self.data.Close[-N:],\n",
    "            #\"Volume\": self.data.Volume[-N:],\n",
    "        })\n",
    "\n",
    "        # Pass last `N` rows to ML model\n",
    "        signal = if_buy_signal_with_esn(df)  \n",
    "\n",
    "        # ML suggests BUY signal\n",
    "        if signal == 1:  \n",
    "            price = self.data.Close[-1]\n",
    "            sl = price * (1 - self.stop_loss_pct)  \n",
    "            tp = price * (1 + self.take_profit_pct) \n",
    "            self.buy(sl=sl, tp=tp)  \n",
    "\n",
    "df = get_stock_data(\"MSFT\", interval=\"1d\", start=\"2023-02-01\", end=\"2025-03-20\")\n",
    "\n",
    "# Run Backtest\n",
    "bt = Backtest(df, MLTradingStrategy, cash=10000, commission=0.002)\n",
    "stats = bt.run()\n",
    "\n",
    "# Print Results\n",
    "print(stats)\n",
    "# bt.plot(filename=\"esn_strategy.html\")"
   ]
  },
  {
   "cell_type": "markdown",
   "metadata": {},
   "source": [
    "# Predicting for today"
   ]
  },
  {
   "cell_type": "code",
   "execution_count": 22,
   "metadata": {},
   "outputs": [
    {
     "data": {
      "application/vnd.microsoft.datawrangler.viewer.v0+json": {
       "columns": [
        {
         "name": "Date",
         "rawType": "datetime64[ns]",
         "type": "datetime"
        },
        {
         "name": "Open",
         "rawType": "float64",
         "type": "float"
        },
        {
         "name": "High",
         "rawType": "float64",
         "type": "float"
        },
        {
         "name": "Low",
         "rawType": "float64",
         "type": "float"
        },
        {
         "name": "Close",
         "rawType": "float64",
         "type": "float"
        }
       ],
       "conversionMethod": "pd.DataFrame",
       "ref": "2b23acc1-24e1-47df-bb3d-fadff63fa0ba",
       "rows": [
        [
         "2025-03-20 00:00:00",
         "385.739990234375",
         "391.7900085449219",
         "383.2799987792969",
         "386.8399963378906"
        ],
        [
         "2025-03-21 00:00:00",
         "383.2200012207031",
         "391.739990234375",
         "382.79998779296875",
         "391.260009765625"
        ],
        [
         "2025-03-24 00:00:00",
         "395.3999938964844",
         "395.3999938964844",
         "389.80999755859375",
         "393.0799865722656"
        ],
        [
         "2025-03-25 00:00:00",
         "393.9200134277344",
         "396.3599853515625",
         "392.6400146484375",
         "395.1600036621094"
        ],
        [
         "2025-03-26 00:00:00",
         "395.0",
         "395.30999755859375",
         "388.57000732421875",
         "389.9700012207031"
        ],
        [
         "2025-03-27 00:00:00",
         "390.1300048828125",
         "392.239990234375",
         "387.3999938964844",
         "390.5799865722656"
        ],
        [
         "2025-03-28 00:00:00",
         "388.0799865722656",
         "389.1300048828125",
         "376.92999267578125",
         "378.79998779296875"
        ],
        [
         "2025-03-31 00:00:00",
         "372.5400085449219",
         "377.07000732421875",
         "367.239990234375",
         "375.3900146484375"
        ],
        [
         "2025-04-01 00:00:00",
         "374.6499938964844",
         "382.8500061035156",
         "373.2300109863281",
         "382.19000244140625"
        ],
        [
         "2025-04-02 00:00:00",
         "377.9700012207031",
         "385.0799865722656",
         "376.6199951171875",
         "382.1400146484375"
        ]
       ],
       "shape": {
        "columns": 4,
        "rows": 10
       }
      },
      "text/html": [
       "<div>\n",
       "<style scoped>\n",
       "    .dataframe tbody tr th:only-of-type {\n",
       "        vertical-align: middle;\n",
       "    }\n",
       "\n",
       "    .dataframe tbody tr th {\n",
       "        vertical-align: top;\n",
       "    }\n",
       "\n",
       "    .dataframe thead th {\n",
       "        text-align: right;\n",
       "    }\n",
       "</style>\n",
       "<table border=\"1\" class=\"dataframe\">\n",
       "  <thead>\n",
       "    <tr style=\"text-align: right;\">\n",
       "      <th>Price</th>\n",
       "      <th>Open</th>\n",
       "      <th>High</th>\n",
       "      <th>Low</th>\n",
       "      <th>Close</th>\n",
       "    </tr>\n",
       "    <tr>\n",
       "      <th>Date</th>\n",
       "      <th></th>\n",
       "      <th></th>\n",
       "      <th></th>\n",
       "      <th></th>\n",
       "    </tr>\n",
       "  </thead>\n",
       "  <tbody>\n",
       "    <tr>\n",
       "      <th>2025-03-20</th>\n",
       "      <td>385.739990</td>\n",
       "      <td>391.790009</td>\n",
       "      <td>383.279999</td>\n",
       "      <td>386.839996</td>\n",
       "    </tr>\n",
       "    <tr>\n",
       "      <th>2025-03-21</th>\n",
       "      <td>383.220001</td>\n",
       "      <td>391.739990</td>\n",
       "      <td>382.799988</td>\n",
       "      <td>391.260010</td>\n",
       "    </tr>\n",
       "    <tr>\n",
       "      <th>2025-03-24</th>\n",
       "      <td>395.399994</td>\n",
       "      <td>395.399994</td>\n",
       "      <td>389.809998</td>\n",
       "      <td>393.079987</td>\n",
       "    </tr>\n",
       "    <tr>\n",
       "      <th>2025-03-25</th>\n",
       "      <td>393.920013</td>\n",
       "      <td>396.359985</td>\n",
       "      <td>392.640015</td>\n",
       "      <td>395.160004</td>\n",
       "    </tr>\n",
       "    <tr>\n",
       "      <th>2025-03-26</th>\n",
       "      <td>395.000000</td>\n",
       "      <td>395.309998</td>\n",
       "      <td>388.570007</td>\n",
       "      <td>389.970001</td>\n",
       "    </tr>\n",
       "    <tr>\n",
       "      <th>2025-03-27</th>\n",
       "      <td>390.130005</td>\n",
       "      <td>392.239990</td>\n",
       "      <td>387.399994</td>\n",
       "      <td>390.579987</td>\n",
       "    </tr>\n",
       "    <tr>\n",
       "      <th>2025-03-28</th>\n",
       "      <td>388.079987</td>\n",
       "      <td>389.130005</td>\n",
       "      <td>376.929993</td>\n",
       "      <td>378.799988</td>\n",
       "    </tr>\n",
       "    <tr>\n",
       "      <th>2025-03-31</th>\n",
       "      <td>372.540009</td>\n",
       "      <td>377.070007</td>\n",
       "      <td>367.239990</td>\n",
       "      <td>375.390015</td>\n",
       "    </tr>\n",
       "    <tr>\n",
       "      <th>2025-04-01</th>\n",
       "      <td>374.649994</td>\n",
       "      <td>382.850006</td>\n",
       "      <td>373.230011</td>\n",
       "      <td>382.190002</td>\n",
       "    </tr>\n",
       "    <tr>\n",
       "      <th>2025-04-02</th>\n",
       "      <td>377.970001</td>\n",
       "      <td>385.079987</td>\n",
       "      <td>376.619995</td>\n",
       "      <td>382.140015</td>\n",
       "    </tr>\n",
       "  </tbody>\n",
       "</table>\n",
       "</div>"
      ],
      "text/plain": [
       "Price             Open        High         Low       Close\n",
       "Date                                                      \n",
       "2025-03-20  385.739990  391.790009  383.279999  386.839996\n",
       "2025-03-21  383.220001  391.739990  382.799988  391.260010\n",
       "2025-03-24  395.399994  395.399994  389.809998  393.079987\n",
       "2025-03-25  393.920013  396.359985  392.640015  395.160004\n",
       "2025-03-26  395.000000  395.309998  388.570007  389.970001\n",
       "2025-03-27  390.130005  392.239990  387.399994  390.579987\n",
       "2025-03-28  388.079987  389.130005  376.929993  378.799988\n",
       "2025-03-31  372.540009  377.070007  367.239990  375.390015\n",
       "2025-04-01  374.649994  382.850006  373.230011  382.190002\n",
       "2025-04-02  377.970001  385.079987  376.619995  382.140015"
      ]
     },
     "execution_count": 22,
     "metadata": {},
     "output_type": "execute_result"
    }
   ],
   "source": [
    "from datetime import datetime\n",
    "today = datetime.today().strftime('%Y-%m-%d')\n",
    "df = get_stock_data(ticker=\"MSFT\", interval=\"1d\", start=\"2025-03-20\", end=today)\n",
    "df = df.drop(columns=['Volume'])\n",
    "df.head(10)"
   ]
  },
  {
   "cell_type": "code",
   "execution_count": null,
   "metadata": {},
   "outputs": [
    {
     "name": "stdout",
     "output_type": "stream",
     "text": [
      "signal 0\n",
      "predicted_close 380.3441784198214\n"
     ]
    }
   ],
   "source": [
    "signal = if_buy_signal_with_esn(df.tail(7)) \n",
    "print(\"signal\", signal)\n",
    "predicted_close = predictor.predict(df.tail(7))\n",
    "print(\"predicted_close\", predicted_close) "
   ]
  },
  {
   "cell_type": "markdown",
   "metadata": {},
   "source": [
    "END OF NOTEBOOK"
   ]
  }
 ],
 "metadata": {
  "kernelspec": {
   "display_name": "py311",
   "language": "python",
   "name": "python3"
  },
  "language_info": {
   "codemirror_mode": {
    "name": "ipython",
    "version": 3
   },
   "file_extension": ".py",
   "mimetype": "text/x-python",
   "name": "python",
   "nbconvert_exporter": "python",
   "pygments_lexer": "ipython3",
   "version": "3.11.6"
  }
 },
 "nbformat": 4,
 "nbformat_minor": 2
}
